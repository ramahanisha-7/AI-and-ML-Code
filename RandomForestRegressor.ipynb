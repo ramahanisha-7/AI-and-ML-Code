{
  "nbformat": 4,
  "nbformat_minor": 0,
  "metadata": {
    "colab": {
      "name": "RandomForestRegressor.ipynb",
      "provenance": [],
      "collapsed_sections": []
    },
    "kernelspec": {
      "name": "python3",
      "display_name": "Python 3"
    },
    "language_info": {
      "name": "python"
    }
  },
  "cells": [
    {
      "cell_type": "code",
      "metadata": {
        "id": "0ffB1fiN02ZE"
      },
      "source": [
        "import numpy as np\n",
        "import pandas as pd\n",
        "import matplotlib.pyplot as plt\n",
        "from sklearn.model_selection import train_test_split\n",
        "from sklearn.preprocessing import MinMaxScaler\n",
        "from sklearn.ensemble import RandomForestRegressor\n",
        "from sklearn.datasets import make_regression\n",
        "from sklearn.metrics import mean_squared_error, max_error, explained_variance_score\n",
        "from sklearn.metrics import mean_absolute_error,  median_absolute_error, mean_squared_log_error"
      ],
      "execution_count": null,
      "outputs": []
    },
    {
      "cell_type": "code",
      "metadata": {
        "colab": {
          "base_uri": "https://localhost:8080/"
        },
        "id": "f88PHFiKl9rz",
        "outputId": "98b5e614-138b-4e80-cbee-5cf6ffb551ae"
      },
      "source": [
        "!wget \"https://raw.githubusercontent.com/dphi-official/Datasets/master/online_news_popularity/train_set_label.csv\""
      ],
      "execution_count": null,
      "outputs": [
        {
          "output_type": "stream",
          "name": "stdout",
          "text": [
            "--2021-10-07 16:34:04--  https://raw.githubusercontent.com/dphi-official/Datasets/master/online_news_popularity/train_set_label.csv\n",
            "Resolving raw.githubusercontent.com (raw.githubusercontent.com)... 185.199.108.133, 185.199.109.133, 185.199.110.133, ...\n",
            "Connecting to raw.githubusercontent.com (raw.githubusercontent.com)|185.199.108.133|:443... connected.\n",
            "HTTP request sent, awaiting response... 200 OK\n",
            "Length: 17243435 (16M) [text/plain]\n",
            "Saving to: ‘train_set_label.csv.2’\n",
            "\n",
            "\rtrain_set_label.csv   0%[                    ]       0  --.-KB/s               \rtrain_set_label.csv 100%[===================>]  16.44M  --.-KB/s    in 0.09s   \n",
            "\n",
            "2021-10-07 16:34:04 (180 MB/s) - ‘train_set_label.csv.2’ saved [17243435/17243435]\n",
            "\n"
          ]
        }
      ]
    },
    {
      "cell_type": "code",
      "metadata": {
        "colab": {
          "base_uri": "https://localhost:8080/",
          "height": 309
        },
        "id": "3Y128Nse-14y",
        "outputId": "6a5cb824-c3f6-433a-d9f5-a3c36e7fe6e3"
      },
      "source": [
        "data = pd.read_csv(\"train_set_label.csv\")\n",
        "data.head()"
      ],
      "execution_count": null,
      "outputs": [
        {
          "output_type": "execute_result",
          "data": {
            "text/html": [
              "<div>\n",
              "<style scoped>\n",
              "    .dataframe tbody tr th:only-of-type {\n",
              "        vertical-align: middle;\n",
              "    }\n",
              "\n",
              "    .dataframe tbody tr th {\n",
              "        vertical-align: top;\n",
              "    }\n",
              "\n",
              "    .dataframe thead th {\n",
              "        text-align: right;\n",
              "    }\n",
              "</style>\n",
              "<table border=\"1\" class=\"dataframe\">\n",
              "  <thead>\n",
              "    <tr style=\"text-align: right;\">\n",
              "      <th></th>\n",
              "      <th>url</th>\n",
              "      <th>timedelta</th>\n",
              "      <th>n_tokens_title</th>\n",
              "      <th>n_tokens_content</th>\n",
              "      <th>n_unique_tokens</th>\n",
              "      <th>n_non_stop_words</th>\n",
              "      <th>n_non_stop_unique_tokens</th>\n",
              "      <th>num_hrefs</th>\n",
              "      <th>num_self_hrefs</th>\n",
              "      <th>num_imgs</th>\n",
              "      <th>num_videos</th>\n",
              "      <th>average_token_length</th>\n",
              "      <th>num_keywords</th>\n",
              "      <th>data_channel_is_lifestyle</th>\n",
              "      <th>data_channel_is_entertainment</th>\n",
              "      <th>data_channel_is_bus</th>\n",
              "      <th>data_channel_is_socmed</th>\n",
              "      <th>data_channel_is_tech</th>\n",
              "      <th>data_channel_is_world</th>\n",
              "      <th>kw_min_min</th>\n",
              "      <th>kw_max_min</th>\n",
              "      <th>kw_avg_min</th>\n",
              "      <th>kw_min_max</th>\n",
              "      <th>kw_max_max</th>\n",
              "      <th>kw_avg_max</th>\n",
              "      <th>kw_min_avg</th>\n",
              "      <th>kw_max_avg</th>\n",
              "      <th>kw_avg_avg</th>\n",
              "      <th>self_reference_min_shares</th>\n",
              "      <th>self_reference_max_shares</th>\n",
              "      <th>self_reference_avg_sharess</th>\n",
              "      <th>weekday_is_monday</th>\n",
              "      <th>weekday_is_tuesday</th>\n",
              "      <th>weekday_is_wednesday</th>\n",
              "      <th>weekday_is_thursday</th>\n",
              "      <th>weekday_is_friday</th>\n",
              "      <th>weekday_is_saturday</th>\n",
              "      <th>weekday_is_sunday</th>\n",
              "      <th>is_weekend</th>\n",
              "      <th>LDA_00</th>\n",
              "      <th>LDA_01</th>\n",
              "      <th>LDA_02</th>\n",
              "      <th>LDA_03</th>\n",
              "      <th>LDA_04</th>\n",
              "      <th>global_subjectivity</th>\n",
              "      <th>global_sentiment_polarity</th>\n",
              "      <th>global_rate_positive_words</th>\n",
              "      <th>global_rate_negative_words</th>\n",
              "      <th>rate_positive_words</th>\n",
              "      <th>rate_negative_words</th>\n",
              "      <th>avg_positive_polarity</th>\n",
              "      <th>min_positive_polarity</th>\n",
              "      <th>max_positive_polarity</th>\n",
              "      <th>avg_negative_polarity</th>\n",
              "      <th>min_negative_polarity</th>\n",
              "      <th>max_negative_polarity</th>\n",
              "      <th>title_subjectivity</th>\n",
              "      <th>title_sentiment_polarity</th>\n",
              "      <th>abs_title_subjectivity</th>\n",
              "      <th>abs_title_sentiment_polarity</th>\n",
              "      <th>shares</th>\n",
              "    </tr>\n",
              "  </thead>\n",
              "  <tbody>\n",
              "    <tr>\n",
              "      <th>0</th>\n",
              "      <td>http://mashable.com/2014/05/29/beats-solo-2-re...</td>\n",
              "      <td>224.0</td>\n",
              "      <td>8.0</td>\n",
              "      <td>337.0</td>\n",
              "      <td>0.542424</td>\n",
              "      <td>1.0</td>\n",
              "      <td>0.685279</td>\n",
              "      <td>8.0</td>\n",
              "      <td>1.0</td>\n",
              "      <td>2.0</td>\n",
              "      <td>0.0</td>\n",
              "      <td>4.727003</td>\n",
              "      <td>7.0</td>\n",
              "      <td>1.0</td>\n",
              "      <td>0.0</td>\n",
              "      <td>0.0</td>\n",
              "      <td>0.0</td>\n",
              "      <td>0.0</td>\n",
              "      <td>0.0</td>\n",
              "      <td>-1.0</td>\n",
              "      <td>569.0</td>\n",
              "      <td>197.000000</td>\n",
              "      <td>0.0</td>\n",
              "      <td>843300.0</td>\n",
              "      <td>287842.857143</td>\n",
              "      <td>0.000000</td>\n",
              "      <td>5522.469194</td>\n",
              "      <td>3044.830022</td>\n",
              "      <td>4100.0</td>\n",
              "      <td>4100.0</td>\n",
              "      <td>4100.000000</td>\n",
              "      <td>0.0</td>\n",
              "      <td>0.0</td>\n",
              "      <td>0.0</td>\n",
              "      <td>1.0</td>\n",
              "      <td>0.0</td>\n",
              "      <td>0.0</td>\n",
              "      <td>0.0</td>\n",
              "      <td>0.0</td>\n",
              "      <td>0.028946</td>\n",
              "      <td>0.028578</td>\n",
              "      <td>0.173082</td>\n",
              "      <td>0.028638</td>\n",
              "      <td>0.740755</td>\n",
              "      <td>0.398606</td>\n",
              "      <td>0.109058</td>\n",
              "      <td>0.029674</td>\n",
              "      <td>0.008902</td>\n",
              "      <td>0.769231</td>\n",
              "      <td>0.230769</td>\n",
              "      <td>0.291714</td>\n",
              "      <td>0.050000</td>\n",
              "      <td>0.5</td>\n",
              "      <td>-0.307407</td>\n",
              "      <td>-0.6000</td>\n",
              "      <td>-0.155556</td>\n",
              "      <td>0.000000</td>\n",
              "      <td>0.0000</td>\n",
              "      <td>0.500000</td>\n",
              "      <td>0.0000</td>\n",
              "      <td>45100</td>\n",
              "    </tr>\n",
              "    <tr>\n",
              "      <th>1</th>\n",
              "      <td>http://mashable.com/2014/01/16/jawbone-era-hea...</td>\n",
              "      <td>357.0</td>\n",
              "      <td>13.0</td>\n",
              "      <td>384.0</td>\n",
              "      <td>0.577465</td>\n",
              "      <td>1.0</td>\n",
              "      <td>0.750000</td>\n",
              "      <td>8.0</td>\n",
              "      <td>7.0</td>\n",
              "      <td>1.0</td>\n",
              "      <td>1.0</td>\n",
              "      <td>4.346354</td>\n",
              "      <td>8.0</td>\n",
              "      <td>0.0</td>\n",
              "      <td>0.0</td>\n",
              "      <td>0.0</td>\n",
              "      <td>0.0</td>\n",
              "      <td>1.0</td>\n",
              "      <td>0.0</td>\n",
              "      <td>-1.0</td>\n",
              "      <td>839.0</td>\n",
              "      <td>317.428571</td>\n",
              "      <td>0.0</td>\n",
              "      <td>843300.0</td>\n",
              "      <td>173737.500000</td>\n",
              "      <td>0.000000</td>\n",
              "      <td>4184.750000</td>\n",
              "      <td>2804.551073</td>\n",
              "      <td>1400.0</td>\n",
              "      <td>13400.0</td>\n",
              "      <td>4466.666667</td>\n",
              "      <td>0.0</td>\n",
              "      <td>0.0</td>\n",
              "      <td>0.0</td>\n",
              "      <td>1.0</td>\n",
              "      <td>0.0</td>\n",
              "      <td>0.0</td>\n",
              "      <td>0.0</td>\n",
              "      <td>0.0</td>\n",
              "      <td>0.025001</td>\n",
              "      <td>0.150196</td>\n",
              "      <td>0.025001</td>\n",
              "      <td>0.273836</td>\n",
              "      <td>0.525966</td>\n",
              "      <td>0.452227</td>\n",
              "      <td>0.101527</td>\n",
              "      <td>0.026042</td>\n",
              "      <td>0.015625</td>\n",
              "      <td>0.625000</td>\n",
              "      <td>0.375000</td>\n",
              "      <td>0.321970</td>\n",
              "      <td>0.100000</td>\n",
              "      <td>1.0</td>\n",
              "      <td>-0.147685</td>\n",
              "      <td>-0.2000</td>\n",
              "      <td>-0.050000</td>\n",
              "      <td>0.000000</td>\n",
              "      <td>0.0000</td>\n",
              "      <td>0.500000</td>\n",
              "      <td>0.0000</td>\n",
              "      <td>5100</td>\n",
              "    </tr>\n",
              "    <tr>\n",
              "      <th>2</th>\n",
              "      <td>http://mashable.com/2013/06/06/snapchat-update/</td>\n",
              "      <td>581.0</td>\n",
              "      <td>7.0</td>\n",
              "      <td>228.0</td>\n",
              "      <td>0.706667</td>\n",
              "      <td>1.0</td>\n",
              "      <td>0.877698</td>\n",
              "      <td>9.0</td>\n",
              "      <td>4.0</td>\n",
              "      <td>1.0</td>\n",
              "      <td>0.0</td>\n",
              "      <td>4.618421</td>\n",
              "      <td>9.0</td>\n",
              "      <td>0.0</td>\n",
              "      <td>0.0</td>\n",
              "      <td>0.0</td>\n",
              "      <td>0.0</td>\n",
              "      <td>1.0</td>\n",
              "      <td>0.0</td>\n",
              "      <td>4.0</td>\n",
              "      <td>863.0</td>\n",
              "      <td>376.111111</td>\n",
              "      <td>2300.0</td>\n",
              "      <td>690400.0</td>\n",
              "      <td>140100.000000</td>\n",
              "      <td>1516.307692</td>\n",
              "      <td>3544.719512</td>\n",
              "      <td>2795.993509</td>\n",
              "      <td>1800.0</td>\n",
              "      <td>1800.0</td>\n",
              "      <td>1800.000000</td>\n",
              "      <td>0.0</td>\n",
              "      <td>0.0</td>\n",
              "      <td>0.0</td>\n",
              "      <td>1.0</td>\n",
              "      <td>0.0</td>\n",
              "      <td>0.0</td>\n",
              "      <td>0.0</td>\n",
              "      <td>0.0</td>\n",
              "      <td>0.136075</td>\n",
              "      <td>0.022223</td>\n",
              "      <td>0.022413</td>\n",
              "      <td>0.112711</td>\n",
              "      <td>0.706579</td>\n",
              "      <td>0.423275</td>\n",
              "      <td>0.212987</td>\n",
              "      <td>0.043860</td>\n",
              "      <td>0.013158</td>\n",
              "      <td>0.769231</td>\n",
              "      <td>0.230769</td>\n",
              "      <td>0.468636</td>\n",
              "      <td>0.100000</td>\n",
              "      <td>1.0</td>\n",
              "      <td>-0.309524</td>\n",
              "      <td>-0.5000</td>\n",
              "      <td>-0.178571</td>\n",
              "      <td>0.000000</td>\n",
              "      <td>0.0000</td>\n",
              "      <td>0.500000</td>\n",
              "      <td>0.0000</td>\n",
              "      <td>990</td>\n",
              "    </tr>\n",
              "    <tr>\n",
              "      <th>3</th>\n",
              "      <td>http://mashable.com/2013/08/16/blogger-suicide...</td>\n",
              "      <td>510.0</td>\n",
              "      <td>13.0</td>\n",
              "      <td>192.0</td>\n",
              "      <td>0.706806</td>\n",
              "      <td>1.0</td>\n",
              "      <td>0.808000</td>\n",
              "      <td>6.0</td>\n",
              "      <td>0.0</td>\n",
              "      <td>0.0</td>\n",
              "      <td>1.0</td>\n",
              "      <td>4.656250</td>\n",
              "      <td>9.0</td>\n",
              "      <td>0.0</td>\n",
              "      <td>0.0</td>\n",
              "      <td>0.0</td>\n",
              "      <td>0.0</td>\n",
              "      <td>0.0</td>\n",
              "      <td>1.0</td>\n",
              "      <td>4.0</td>\n",
              "      <td>1200.0</td>\n",
              "      <td>289.666667</td>\n",
              "      <td>1200.0</td>\n",
              "      <td>843300.0</td>\n",
              "      <td>121088.888889</td>\n",
              "      <td>1200.000000</td>\n",
              "      <td>3252.532124</td>\n",
              "      <td>2347.702143</td>\n",
              "      <td>0.0</td>\n",
              "      <td>0.0</td>\n",
              "      <td>0.000000</td>\n",
              "      <td>0.0</td>\n",
              "      <td>0.0</td>\n",
              "      <td>0.0</td>\n",
              "      <td>0.0</td>\n",
              "      <td>1.0</td>\n",
              "      <td>0.0</td>\n",
              "      <td>0.0</td>\n",
              "      <td>0.0</td>\n",
              "      <td>0.022223</td>\n",
              "      <td>0.022223</td>\n",
              "      <td>0.911109</td>\n",
              "      <td>0.022222</td>\n",
              "      <td>0.022223</td>\n",
              "      <td>0.518277</td>\n",
              "      <td>0.206889</td>\n",
              "      <td>0.041667</td>\n",
              "      <td>0.010417</td>\n",
              "      <td>0.800000</td>\n",
              "      <td>0.200000</td>\n",
              "      <td>0.443466</td>\n",
              "      <td>0.136364</td>\n",
              "      <td>1.0</td>\n",
              "      <td>-0.118750</td>\n",
              "      <td>-0.1875</td>\n",
              "      <td>-0.050000</td>\n",
              "      <td>0.354167</td>\n",
              "      <td>0.0625</td>\n",
              "      <td>0.145833</td>\n",
              "      <td>0.0625</td>\n",
              "      <td>4700</td>\n",
              "    </tr>\n",
              "    <tr>\n",
              "      <th>4</th>\n",
              "      <td>http://mashable.com/2013/03/12/klout-perks-mar...</td>\n",
              "      <td>667.0</td>\n",
              "      <td>7.0</td>\n",
              "      <td>342.0</td>\n",
              "      <td>0.447020</td>\n",
              "      <td>1.0</td>\n",
              "      <td>0.459227</td>\n",
              "      <td>9.0</td>\n",
              "      <td>5.0</td>\n",
              "      <td>25.0</td>\n",
              "      <td>1.0</td>\n",
              "      <td>4.631579</td>\n",
              "      <td>10.0</td>\n",
              "      <td>0.0</td>\n",
              "      <td>0.0</td>\n",
              "      <td>1.0</td>\n",
              "      <td>0.0</td>\n",
              "      <td>0.0</td>\n",
              "      <td>0.0</td>\n",
              "      <td>217.0</td>\n",
              "      <td>629.0</td>\n",
              "      <td>425.111111</td>\n",
              "      <td>0.0</td>\n",
              "      <td>617900.0</td>\n",
              "      <td>97110.000000</td>\n",
              "      <td>0.000000</td>\n",
              "      <td>4071.504559</td>\n",
              "      <td>2573.147835</td>\n",
              "      <td>629.0</td>\n",
              "      <td>4100.0</td>\n",
              "      <td>2476.333333</td>\n",
              "      <td>0.0</td>\n",
              "      <td>1.0</td>\n",
              "      <td>0.0</td>\n",
              "      <td>0.0</td>\n",
              "      <td>0.0</td>\n",
              "      <td>0.0</td>\n",
              "      <td>0.0</td>\n",
              "      <td>0.0</td>\n",
              "      <td>0.734986</td>\n",
              "      <td>0.204765</td>\n",
              "      <td>0.020029</td>\n",
              "      <td>0.020174</td>\n",
              "      <td>0.020047</td>\n",
              "      <td>0.435714</td>\n",
              "      <td>0.151732</td>\n",
              "      <td>0.032164</td>\n",
              "      <td>0.000000</td>\n",
              "      <td>1.000000</td>\n",
              "      <td>0.000000</td>\n",
              "      <td>0.193113</td>\n",
              "      <td>0.033333</td>\n",
              "      <td>0.5</td>\n",
              "      <td>0.000000</td>\n",
              "      <td>0.0000</td>\n",
              "      <td>0.000000</td>\n",
              "      <td>0.000000</td>\n",
              "      <td>0.0000</td>\n",
              "      <td>0.500000</td>\n",
              "      <td>0.0000</td>\n",
              "      <td>2900</td>\n",
              "    </tr>\n",
              "  </tbody>\n",
              "</table>\n",
              "</div>"
            ],
            "text/plain": [
              "                                                 url  ...   shares\n",
              "0  http://mashable.com/2014/05/29/beats-solo-2-re...  ...    45100\n",
              "1  http://mashable.com/2014/01/16/jawbone-era-hea...  ...     5100\n",
              "2    http://mashable.com/2013/06/06/snapchat-update/  ...      990\n",
              "3  http://mashable.com/2013/08/16/blogger-suicide...  ...     4700\n",
              "4  http://mashable.com/2013/03/12/klout-perks-mar...  ...     2900\n",
              "\n",
              "[5 rows x 61 columns]"
            ]
          },
          "metadata": {},
          "execution_count": 17
        }
      ]
    },
    {
      "cell_type": "code",
      "metadata": {
        "id": "ArSU5jczJym9"
      },
      "source": [
        "data.drop('url',inplace=True,axis=1)\n",
        "data.drop(' timedelta',inplace=True,axis=1)"
      ],
      "execution_count": null,
      "outputs": []
    },
    {
      "cell_type": "code",
      "metadata": {
        "id": "6XnZVAI4LNIh"
      },
      "source": [
        "X = data.drop([' shares'], axis=1)\n",
        "y =data[' shares']"
      ],
      "execution_count": null,
      "outputs": []
    },
    {
      "cell_type": "code",
      "metadata": {
        "id": "irISvs36MtAt"
      },
      "source": [
        "sc=MinMaxScaler()\n",
        "X=sc.fit_transform(X)"
      ],
      "execution_count": null,
      "outputs": []
    },
    {
      "cell_type": "code",
      "metadata": {
        "id": "tO9w8vh9NCAR"
      },
      "source": [
        "X_train,X_test,y_train,y_test = train_test_split(X, y, test_size = 0.3, random_state = 0)\n"
      ],
      "execution_count": null,
      "outputs": []
    },
    {
      "cell_type": "code",
      "metadata": {
        "colab": {
          "base_uri": "https://localhost:8080/"
        },
        "id": "W_UT7f68Oq2f",
        "outputId": "ae9b9c04-a9e7-4a44-d9ac-2adfab1a08c0"
      },
      "source": [
        "X"
      ],
      "execution_count": null,
      "outputs": [
        {
          "output_type": "execute_result",
          "data": {
            "text/plain": [
              "array([[3.33333333e-01, 3.97687043e-02, 7.73786363e-04, ...,\n",
              "        5.00000000e-01, 1.00000000e+00, 0.00000000e+00],\n",
              "       [6.11111111e-01, 4.53150814e-02, 8.23772877e-04, ...,\n",
              "        5.00000000e-01, 1.00000000e+00, 0.00000000e+00],\n",
              "       [2.77777778e-01, 2.69058296e-02, 1.00808369e-03, ...,\n",
              "        5.00000000e-01, 1.00000000e+00, 0.00000000e+00],\n",
              "       ...,\n",
              "       [4.44444444e-01, 5.68798678e-02, 7.63541069e-04, ...,\n",
              "        7.50000000e-01, 0.00000000e+00, 5.00000000e-01],\n",
              "       [3.88888889e-01, 3.31602549e-02, 7.84593435e-04, ...,\n",
              "        5.00000000e-01, 1.00000000e+00, 0.00000000e+00],\n",
              "       [5.00000000e-01, 1.74651876e-02, 8.92796485e-04, ...,\n",
              "        6.07142857e-01, 2.85714286e-01, 2.14285714e-01]])"
            ]
          },
          "metadata": {},
          "execution_count": 22
        }
      ]
    },
    {
      "cell_type": "code",
      "metadata": {
        "colab": {
          "base_uri": "https://localhost:8080/"
        },
        "id": "R4SaPahCOssk",
        "outputId": "94f602a3-87a2-4bd5-8c87-238a3acd1514"
      },
      "source": [
        "# Print the shape of features and target of training and testing: X_train, X_test, y_train, y_test\n",
        "X_train_shape =  X_train.shape\n",
        "y_train_shape =  y_train.shape\n",
        "X_test_shape  =  X_test.shape\n",
        "y_test_shape  =  y_test.shape\n",
        "\n",
        "print(f\"X_train: {X_train_shape} , y_train: {y_train_shape}\")\n",
        "print(f\"X_test: {X_test_shape} , y_test: {y_test_shape}\")"
      ],
      "execution_count": null,
      "outputs": [
        {
          "output_type": "stream",
          "name": "stdout",
          "text": [
            "X_train: (20813, 58) , y_train: (20813,)\n",
            "X_test: (8920, 58) , y_test: (8920,)\n"
          ]
        }
      ]
    },
    {
      "cell_type": "code",
      "metadata": {
        "colab": {
          "base_uri": "https://localhost:8080/"
        },
        "id": "2QOqVZvmOsyZ",
        "outputId": "c5617768-875c-485b-8627-385a2e94d659"
      },
      "source": [
        "model=RandomForestRegressor(n_estimators = 100, random_state = 0)\n",
        "model.fit(X_train,y_train)"
      ],
      "execution_count": null,
      "outputs": [
        {
          "output_type": "execute_result",
          "data": {
            "text/plain": [
              "RandomForestRegressor(bootstrap=True, ccp_alpha=0.0, criterion='mse',\n",
              "                      max_depth=None, max_features='auto', max_leaf_nodes=None,\n",
              "                      max_samples=None, min_impurity_decrease=0.0,\n",
              "                      min_impurity_split=None, min_samples_leaf=1,\n",
              "                      min_samples_split=2, min_weight_fraction_leaf=0.0,\n",
              "                      n_estimators=100, n_jobs=None, oob_score=False,\n",
              "                      random_state=0, verbose=0, warm_start=False)"
            ]
          },
          "metadata": {},
          "execution_count": 24
        }
      ]
    },
    {
      "cell_type": "code",
      "metadata": {
        "id": "wIv8NV60jdwS"
      },
      "source": [
        "y_pred = model.predict(X_test)"
      ],
      "execution_count": null,
      "outputs": []
    },
    {
      "cell_type": "code",
      "metadata": {
        "id": "K_lqK_fkjdwU",
        "colab": {
          "base_uri": "https://localhost:8080/"
        },
        "outputId": "b7f8dcf6-3e5f-4d3f-9907-d6c47966669c"
      },
      "source": [
        "mse = mean_squared_error(y_test,y_pred)\n",
        "\n",
        "print(f\"\\nMSE: {mse}\")"
      ],
      "execution_count": null,
      "outputs": [
        {
          "output_type": "stream",
          "name": "stdout",
          "text": [
            "\n",
            "MSE: 258077632.65949783\n"
          ]
        }
      ]
    },
    {
      "cell_type": "code",
      "metadata": {
        "colab": {
          "base_uri": "https://localhost:8080/"
        },
        "id": "AMAHr60L-6cd",
        "outputId": "7044e97c-0a69-47e3-f96b-9b734b1847ea"
      },
      "source": [
        "#Mean error\n",
        "mean_absolute_error(y_test,y_pred)"
      ],
      "execution_count": null,
      "outputs": [
        {
          "output_type": "execute_result",
          "data": {
            "text/plain": [
              "3585.7196804932737"
            ]
          },
          "metadata": {},
          "execution_count": 27
        }
      ]
    },
    {
      "cell_type": "code",
      "metadata": {
        "colab": {
          "base_uri": "https://localhost:8080/"
        },
        "id": "VG80GfhJAYRG",
        "outputId": "01c32a8b-fb74-4e2c-982c-b3fd1ad95150"
      },
      "source": [
        "#Median error\n",
        "median_absolute_error(y_test, y_pred)"
      ],
      "execution_count": null,
      "outputs": [
        {
          "output_type": "execute_result",
          "data": {
            "text/plain": [
              "1639.0800000000002"
            ]
          },
          "metadata": {},
          "execution_count": 28
        }
      ]
    },
    {
      "cell_type": "code",
      "metadata": {
        "colab": {
          "base_uri": "https://localhost:8080/"
        },
        "id": "bFioSMMsAyfM",
        "outputId": "e7468073-6772-4f34-8e99-6721f5f5d711"
      },
      "source": [
        "#Mean Squared Logarithmic Error\n",
        "mean_squared_log_error(y_test, y_pred)"
      ],
      "execution_count": null,
      "outputs": [
        {
          "output_type": "execute_result",
          "data": {
            "text/plain": [
              "1.2148772899212552"
            ]
          },
          "metadata": {},
          "execution_count": 29
        }
      ]
    },
    {
      "cell_type": "code",
      "metadata": {
        "colab": {
          "base_uri": "https://localhost:8080/"
        },
        "id": "GXA6zZ_JBJ0j",
        "outputId": "569121e8-d525-4762-f49f-2e50719b3987"
      },
      "source": [
        "# Max Error\n",
        "max_error(y_test, y_pred)"
      ],
      "execution_count": null,
      "outputs": [
        {
          "output_type": "execute_result",
          "data": {
            "text/plain": [
              "840242.13"
            ]
          },
          "metadata": {},
          "execution_count": 30
        }
      ]
    },
    {
      "cell_type": "code",
      "metadata": {
        "colab": {
          "base_uri": "https://localhost:8080/"
        },
        "id": "gi-vWD0TBZfj",
        "outputId": "66158408-e716-45dc-a312-35a1e9cf0a97"
      },
      "source": [
        "# explained variance score\n",
        "explained_variance_score(y_test, y_pred)"
      ],
      "execution_count": null,
      "outputs": [
        {
          "output_type": "execute_result",
          "data": {
            "text/plain": [
              "0.00779558016149795"
            ]
          },
          "metadata": {},
          "execution_count": 31
        }
      ]
    },
    {
      "cell_type": "code",
      "metadata": {
        "colab": {
          "base_uri": "https://localhost:8080/"
        },
        "id": "ubzkTNvkZWV8",
        "outputId": "aecacab3-c184-44ef-b132-de940ee3c0db"
      },
      "source": [
        "model=RandomForestRegressor(n_estimators = 50, random_state = 1)\n",
        "model.fit(X_train,y_train)"
      ],
      "execution_count": null,
      "outputs": [
        {
          "output_type": "execute_result",
          "data": {
            "text/plain": [
              "RandomForestRegressor(bootstrap=True, ccp_alpha=0.0, criterion='mse',\n",
              "                      max_depth=None, max_features='auto', max_leaf_nodes=None,\n",
              "                      max_samples=None, min_impurity_decrease=0.0,\n",
              "                      min_impurity_split=None, min_samples_leaf=1,\n",
              "                      min_samples_split=2, min_weight_fraction_leaf=0.0,\n",
              "                      n_estimators=50, n_jobs=None, oob_score=False,\n",
              "                      random_state=1, verbose=0, warm_start=False)"
            ]
          },
          "metadata": {},
          "execution_count": 32
        }
      ]
    }
  ]
}