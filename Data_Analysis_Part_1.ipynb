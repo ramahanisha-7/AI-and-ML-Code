{
  "nbformat": 4,
  "nbformat_minor": 0,
  "metadata": {
    "colab": {
      "name": "Data Analysis Part-1.ipynb",
      "provenance": [],
      "collapsed_sections": []
    },
    "kernelspec": {
      "name": "python3",
      "display_name": "Python 3"
    },
    "language_info": {
      "name": "python"
    }
  },
  "cells": [
    {
      "cell_type": "markdown",
      "metadata": {
        "id": "d_9qxtMxBQRY"
      },
      "source": [
        "\n",
        "#Wine Quality Data Set "
      ]
    },
    {
      "cell_type": "code",
      "metadata": {
        "colab": {
          "base_uri": "https://localhost:8080/"
        },
        "id": "MSz3mG-69JP2",
        "outputId": "38042397-dd60-4530-de0e-560c39a1d94c"
      },
      "source": [
        "!wget https://archive.ics.uci.edu/ml/machine-learning-databases/wine-quality/winequality-white.csv"
      ],
      "execution_count": null,
      "outputs": [
        {
          "output_type": "stream",
          "name": "stdout",
          "text": [
            "--2021-09-03 09:20:43--  https://archive.ics.uci.edu/ml/machine-learning-databases/wine-quality/winequality-white.csv\n",
            "Resolving archive.ics.uci.edu (archive.ics.uci.edu)... 128.195.10.252\n",
            "Connecting to archive.ics.uci.edu (archive.ics.uci.edu)|128.195.10.252|:443... connected.\n",
            "HTTP request sent, awaiting response... 200 OK\n",
            "Length: 264426 (258K) [application/x-httpd-php]\n",
            "Saving to: ‘winequality-white.csv’\n",
            "\n",
            "\rwinequality-white.c   0%[                    ]       0  --.-KB/s               \rwinequality-white.c 100%[===================>] 258.23K  --.-KB/s    in 0.05s   \n",
            "\n",
            "2021-09-03 09:20:43 (4.78 MB/s) - ‘winequality-white.csv’ saved [264426/264426]\n",
            "\n"
          ]
        }
      ]
    },
    {
      "cell_type": "code",
      "metadata": {
        "id": "B43eObEu9YwQ"
      },
      "source": [
        "#importing datasets\n",
        "import numpy as np\n",
        "import matplotlib.pyplot as plt\n",
        "import pandas as pd\n"
      ],
      "execution_count": null,
      "outputs": []
    },
    {
      "cell_type": "code",
      "metadata": {
        "id": "Tv1rLltNB11P"
      },
      "source": [
        "#reading the dataset\n",
        "data=pd.read_csv(\"winequality-white.csv\",sep=\";\")"
      ],
      "execution_count": null,
      "outputs": []
    },
    {
      "cell_type": "code",
      "metadata": {
        "colab": {
          "base_uri": "https://localhost:8080/"
        },
        "id": "rygK7TslJBIz",
        "outputId": "e9256580-441b-4b09-9a21-4de3e8bbbbab"
      },
      "source": [
        "print(data)"
      ],
      "execution_count": null,
      "outputs": [
        {
          "output_type": "stream",
          "name": "stdout",
          "text": [
            "      fixed acidity  volatile acidity  citric acid  ...  sulphates  alcohol  quality\n",
            "0               7.0              0.27         0.36  ...       0.45      8.8        6\n",
            "1               6.3              0.30         0.34  ...       0.49      9.5        6\n",
            "2               8.1              0.28         0.40  ...       0.44     10.1        6\n",
            "3               7.2              0.23         0.32  ...       0.40      9.9        6\n",
            "4               7.2              0.23         0.32  ...       0.40      9.9        6\n",
            "...             ...               ...          ...  ...        ...      ...      ...\n",
            "4893            6.2              0.21         0.29  ...       0.50     11.2        6\n",
            "4894            6.6              0.32         0.36  ...       0.46      9.6        5\n",
            "4895            6.5              0.24         0.19  ...       0.46      9.4        6\n",
            "4896            5.5              0.29         0.30  ...       0.38     12.8        7\n",
            "4897            6.0              0.21         0.38  ...       0.32     11.8        6\n",
            "\n",
            "[4898 rows x 12 columns]\n"
          ]
        }
      ]
    },
    {
      "cell_type": "code",
      "metadata": {
        "colab": {
          "base_uri": "https://localhost:8080/",
          "height": 258
        },
        "id": "kFLBBlWACAxN",
        "outputId": "2574c99d-6858-4374-cf31-4747050d8e43"
      },
      "source": [
        "#reading first few rows of the dataset\n",
        "data.head()"
      ],
      "execution_count": null,
      "outputs": [
        {
          "output_type": "execute_result",
          "data": {
            "text/html": [
              "<div>\n",
              "<style scoped>\n",
              "    .dataframe tbody tr th:only-of-type {\n",
              "        vertical-align: middle;\n",
              "    }\n",
              "\n",
              "    .dataframe tbody tr th {\n",
              "        vertical-align: top;\n",
              "    }\n",
              "\n",
              "    .dataframe thead th {\n",
              "        text-align: right;\n",
              "    }\n",
              "</style>\n",
              "<table border=\"1\" class=\"dataframe\">\n",
              "  <thead>\n",
              "    <tr style=\"text-align: right;\">\n",
              "      <th></th>\n",
              "      <th>fixed acidity</th>\n",
              "      <th>volatile acidity</th>\n",
              "      <th>citric acid</th>\n",
              "      <th>residual sugar</th>\n",
              "      <th>chlorides</th>\n",
              "      <th>free sulfur dioxide</th>\n",
              "      <th>total sulfur dioxide</th>\n",
              "      <th>density</th>\n",
              "      <th>pH</th>\n",
              "      <th>sulphates</th>\n",
              "      <th>alcohol</th>\n",
              "      <th>quality</th>\n",
              "    </tr>\n",
              "  </thead>\n",
              "  <tbody>\n",
              "    <tr>\n",
              "      <th>0</th>\n",
              "      <td>7.0</td>\n",
              "      <td>0.27</td>\n",
              "      <td>0.36</td>\n",
              "      <td>20.7</td>\n",
              "      <td>0.045</td>\n",
              "      <td>45.0</td>\n",
              "      <td>170.0</td>\n",
              "      <td>1.0010</td>\n",
              "      <td>3.00</td>\n",
              "      <td>0.45</td>\n",
              "      <td>8.8</td>\n",
              "      <td>6</td>\n",
              "    </tr>\n",
              "    <tr>\n",
              "      <th>1</th>\n",
              "      <td>6.3</td>\n",
              "      <td>0.30</td>\n",
              "      <td>0.34</td>\n",
              "      <td>1.6</td>\n",
              "      <td>0.049</td>\n",
              "      <td>14.0</td>\n",
              "      <td>132.0</td>\n",
              "      <td>0.9940</td>\n",
              "      <td>3.30</td>\n",
              "      <td>0.49</td>\n",
              "      <td>9.5</td>\n",
              "      <td>6</td>\n",
              "    </tr>\n",
              "    <tr>\n",
              "      <th>2</th>\n",
              "      <td>8.1</td>\n",
              "      <td>0.28</td>\n",
              "      <td>0.40</td>\n",
              "      <td>6.9</td>\n",
              "      <td>0.050</td>\n",
              "      <td>30.0</td>\n",
              "      <td>97.0</td>\n",
              "      <td>0.9951</td>\n",
              "      <td>3.26</td>\n",
              "      <td>0.44</td>\n",
              "      <td>10.1</td>\n",
              "      <td>6</td>\n",
              "    </tr>\n",
              "    <tr>\n",
              "      <th>3</th>\n",
              "      <td>7.2</td>\n",
              "      <td>0.23</td>\n",
              "      <td>0.32</td>\n",
              "      <td>8.5</td>\n",
              "      <td>0.058</td>\n",
              "      <td>47.0</td>\n",
              "      <td>186.0</td>\n",
              "      <td>0.9956</td>\n",
              "      <td>3.19</td>\n",
              "      <td>0.40</td>\n",
              "      <td>9.9</td>\n",
              "      <td>6</td>\n",
              "    </tr>\n",
              "    <tr>\n",
              "      <th>4</th>\n",
              "      <td>7.2</td>\n",
              "      <td>0.23</td>\n",
              "      <td>0.32</td>\n",
              "      <td>8.5</td>\n",
              "      <td>0.058</td>\n",
              "      <td>47.0</td>\n",
              "      <td>186.0</td>\n",
              "      <td>0.9956</td>\n",
              "      <td>3.19</td>\n",
              "      <td>0.40</td>\n",
              "      <td>9.9</td>\n",
              "      <td>6</td>\n",
              "    </tr>\n",
              "  </tbody>\n",
              "</table>\n",
              "</div>"
            ],
            "text/plain": [
              "   fixed acidity  volatile acidity  citric acid  ...  sulphates  alcohol  quality\n",
              "0            7.0              0.27         0.36  ...       0.45      8.8        6\n",
              "1            6.3              0.30         0.34  ...       0.49      9.5        6\n",
              "2            8.1              0.28         0.40  ...       0.44     10.1        6\n",
              "3            7.2              0.23         0.32  ...       0.40      9.9        6\n",
              "4            7.2              0.23         0.32  ...       0.40      9.9        6\n",
              "\n",
              "[5 rows x 12 columns]"
            ]
          },
          "metadata": {},
          "execution_count": 6
        }
      ]
    },
    {
      "cell_type": "code",
      "metadata": {
        "colab": {
          "base_uri": "https://localhost:8080/"
        },
        "id": "jFAFozFgCGF2",
        "outputId": "e73648c5-59f6-4d7b-f859-1db4ca2c094b"
      },
      "source": [
        "#Read the dataset and store it as a 2D NumPy matrix (4898*12) called XY\n",
        "XY = np.array(data[1:],dtype=np.float)\n",
        "print(XY)"
      ],
      "execution_count": null,
      "outputs": [
        {
          "output_type": "stream",
          "name": "stdout",
          "text": [
            "[[ 6.3   0.3   0.34 ...  0.49  9.5   6.  ]\n",
            " [ 8.1   0.28  0.4  ...  0.44 10.1   6.  ]\n",
            " [ 7.2   0.23  0.32 ...  0.4   9.9   6.  ]\n",
            " ...\n",
            " [ 6.5   0.24  0.19 ...  0.46  9.4   6.  ]\n",
            " [ 5.5   0.29  0.3  ...  0.38 12.8   7.  ]\n",
            " [ 6.    0.21  0.38 ...  0.32 11.8   6.  ]]\n"
          ]
        }
      ]
    },
    {
      "cell_type": "code",
      "metadata": {
        "colab": {
          "base_uri": "https://localhost:8080/"
        },
        "id": "60ge7nKyC0aD",
        "outputId": "10b8cf67-796c-44dd-9d26-3a730c7ba35b"
      },
      "source": [
        "features=XY[:,:-1]\n",
        "wine_quality=XY[:,-1:]\n",
        "\n",
        "print(features.shape)\n",
        "print(wine_quality.shape)\n",
        "\n"
      ],
      "execution_count": null,
      "outputs": [
        {
          "output_type": "stream",
          "name": "stdout",
          "text": [
            "(4897, 11)\n",
            "(4897, 1)\n"
          ]
        }
      ]
    },
    {
      "cell_type": "code",
      "metadata": {
        "colab": {
          "base_uri": "https://localhost:8080/"
        },
        "id": "5dU3dBe5Fz1G",
        "outputId": "0362626d-a324-4b39-809b-c51a673ac7ed"
      },
      "source": [
        "#Compute the following statistical value\n",
        "#mean\n",
        "print(\"Mean of XY: \",np.mean(XY))"
      ],
      "execution_count": null,
      "outputs": [
        {
          "output_type": "stream",
          "name": "stdout",
          "text": [
            "Mean of XY:  17.38553686083316\n"
          ]
        }
      ]
    },
    {
      "cell_type": "code",
      "metadata": {
        "colab": {
          "base_uri": "https://localhost:8080/"
        },
        "id": "D-Vyi9dTIl9g",
        "outputId": "e35783a5-38a8-4090-fc14-9303a60ba18a"
      },
      "source": [
        "#Median\n",
        "print(\"Median of XY: \",np.median(XY))"
      ],
      "execution_count": null,
      "outputs": [
        {
          "output_type": "stream",
          "name": "stdout",
          "text": [
            "Median of XY:  3.21\n"
          ]
        }
      ]
    },
    {
      "cell_type": "code",
      "metadata": {
        "colab": {
          "base_uri": "https://localhost:8080/"
        },
        "id": "t04UBpOmIyW2",
        "outputId": "d9cdd414-2ea2-4ae5-a958-fc5a4736a891"
      },
      "source": [
        "#Mode of the last column (wine_quality)\n",
        "from scipy import stats\n",
        "mode=stats.mode(wine_quality)\n",
        "print(mode)"
      ],
      "execution_count": null,
      "outputs": [
        {
          "output_type": "stream",
          "name": "stdout",
          "text": [
            "ModeResult(mode=array([[6.]]), count=array([[2197]]))\n"
          ]
        }
      ]
    },
    {
      "cell_type": "code",
      "metadata": {
        "colab": {
          "base_uri": "https://localhost:8080/"
        },
        "id": "diirtrozKY9B",
        "outputId": "30b0cc25-a4e2-4112-b62a-25a4d60d7ede"
      },
      "source": [
        "#Standard deviation\n",
        "print(\"Standard deviation of XY: \",np.std(XY))"
      ],
      "execution_count": null,
      "outputs": [
        {
          "output_type": "stream",
          "name": "stdout",
          "text": [
            "Standard deviation of XY:  39.92667630408522\n"
          ]
        }
      ]
    },
    {
      "cell_type": "code",
      "metadata": {
        "colab": {
          "base_uri": "https://localhost:8080/"
        },
        "id": "OqxuyQSJKoR2",
        "outputId": "df07efc8-b6b5-4fc0-966a-a9fce640aac5"
      },
      "source": [
        "#varience\n",
        "print(\"Varience of XY: \",np.var(XY))"
      ],
      "execution_count": null,
      "outputs": [
        {
          "output_type": "stream",
          "name": "stdout",
          "text": [
            "Varience of XY:  1594.1394806912003\n"
          ]
        }
      ]
    },
    {
      "cell_type": "code",
      "metadata": {
        "colab": {
          "base_uri": "https://localhost:8080/"
        },
        "id": "oTdU3hWzKxCp",
        "outputId": "b5930f0f-0d5f-4a86-c7e4-ed01c5d212c9"
      },
      "source": [
        "#Performing the required operations\n",
        "#Check whether any missing values are there in the dataset. \n",
        "data=pd.DataFrame(XY)\n",
        "print(data.isnull().sum())"
      ],
      "execution_count": null,
      "outputs": [
        {
          "output_type": "stream",
          "name": "stdout",
          "text": [
            "0     0\n",
            "1     0\n",
            "2     0\n",
            "3     0\n",
            "4     0\n",
            "5     0\n",
            "6     0\n",
            "7     0\n",
            "8     0\n",
            "9     0\n",
            "10    0\n",
            "11    0\n",
            "dtype: int64\n"
          ]
        }
      ]
    },
    {
      "cell_type": "code",
      "metadata": {
        "colab": {
          "base_uri": "https://localhost:8080/"
        },
        "id": "MZylZJvDLizB",
        "outputId": "35e36ff9-f1c7-44da-bc83-0c35b856d3fc"
      },
      "source": [
        "#Find maximum and minimum values of each column \n",
        "max=XY.max(axis=1)\n",
        "print(max)\n",
        "min=XY.min(axis=1)\n",
        "print(min)"
      ],
      "execution_count": null,
      "outputs": [
        {
          "output_type": "stream",
          "name": "stdout",
          "text": [
            "[132.  97. 186. ... 111. 110.  98.]\n",
            "[0.049 0.05  0.058 ... 0.041 0.022 0.02 ]\n"
          ]
        }
      ]
    },
    {
      "cell_type": "code",
      "metadata": {
        "colab": {
          "base_uri": "https://localhost:8080/"
        },
        "id": "-p-DHMTHMBnv",
        "outputId": "4b006d09-8529-4d5e-cf9a-a89174628eeb"
      },
      "source": [
        "#Count number of samples for each value of wine quality (discrete values from 1 to 10) and plot it as pie chart. \n",
        "(unique,counts) = np.unique(wine_quality,return_counts=True)\n",
        "print(unique,counts)"
      ],
      "execution_count": null,
      "outputs": [
        {
          "output_type": "stream",
          "name": "stdout",
          "text": [
            "[3. 4. 5. 6. 7. 8. 9.] [  20  163 1457 2197  880  175    5]\n"
          ]
        }
      ]
    },
    {
      "cell_type": "code",
      "metadata": {
        "colab": {
          "base_uri": "https://localhost:8080/",
          "height": 248
        },
        "id": "m9vu-9JtMlq3",
        "outputId": "74c1a79c-f81e-4dda-fea1-5314c389f2f1"
      },
      "source": [
        "plt.pie(counts,labels=unique)\n",
        "plt.show()"
      ],
      "execution_count": null,
      "outputs": [
        {
          "output_type": "display_data",
          "data": {
            "image/png": "[encoded data removed]",
            "text/plain": [
              "<Figure size 432x288 with 1 Axes>"
            ]
          },
          "metadata": {}
        }
      ]
    },
    {
      "cell_type": "code",
      "metadata": {
        "colab": {
          "base_uri": "https://localhost:8080/",
          "height": 282
        },
        "id": "A14T-qDDMuHo",
        "outputId": "347eabdd-31f1-4599-97a8-799e5c499728"
      },
      "source": [
        "#Plot the columns using bar graphs or histogram graph to show the distribution of the data. \n",
        "plt.hist(data)\n",
        "plt.show"
      ],
      "execution_count": null,
      "outputs": [
        {
          "output_type": "execute_result",
          "data": {
            "text/plain": [
              "<function matplotlib.pyplot.show>"
            ]
          },
          "metadata": {},
          "execution_count": 26
        },
        {
          "output_type": "display_data",
          "data": {
            "image/png": "[encoded data removed]",
            "text/plain": [
              "<Figure size 432x288 with 1 Axes>"
            ]
          },
          "metadata": {
            "needs_background": "light"
          }
        }
      ]
    },
    {
      "cell_type": "code",
      "metadata": {
        "colab": {
          "base_uri": "https://localhost:8080/",
          "height": 624
        },
        "id": "sK_207_dNvbd",
        "outputId": "d5bcfbc2-6040-4070-dee2-d12e238f6d79"
      },
      "source": [
        "data.hist(bins=50,figsize=(10,10))\n",
        "plt.show"
      ],
      "execution_count": null,
      "outputs": [
        {
          "output_type": "execute_result",
          "data": {
            "text/plain": [
              "<function matplotlib.pyplot.show>"
            ]
          },
          "metadata": {},
          "execution_count": 29
        },
        {
          "output_type": "display_data",
          "data": {
            "image/png": "[encoded data removed]",
            "text/plain": [
              "<Figure size 720x720 with 12 Axes>"
            ]
          },
          "metadata": {
            "needs_background": "light"
          }
        }
      ]
    },
    {
      "cell_type": "markdown",
      "metadata": {
        "id": "QoNg6IvVSdh3"
      },
      "source": [
        "# Discover the real applications of the operations used in step 3 and 4."
      ]
    },
    {
      "cell_type": "code",
      "metadata": {
        "id": "XuxELPmGUsGz"
      },
      "source": [
        "#stock market data set financial"
      ],
      "execution_count": null,
      "outputs": []
    },
    {
      "cell_type": "code",
      "metadata": {
        "colab": {
          "base_uri": "https://localhost:8080/"
        },
        "id": "TuvnuS9AOYzp",
        "outputId": "23b13cab-55c0-41fd-80bf-2402a79f6a9c"
      },
      "source": [
        "!wget https://datahub.io/core/s-and-p-500-companies-financials/r/constituents-financials.csv"
      ],
      "execution_count": null,
      "outputs": [
        {
          "output_type": "stream",
          "name": "stdout",
          "text": [
            "--2021-09-03 11:01:40--  https://datahub.io/core/s-and-p-500-companies-financials/r/constituents-financials.csv\n",
            "Resolving datahub.io (datahub.io)... 172.67.157.38, 104.21.40.221, 2606:4700:3033::6815:28dd, ...\n",
            "Connecting to datahub.io (datahub.io)|172.67.157.38|:443... connected.\n",
            "HTTP request sent, awaiting response... 302 Found\n",
            "Location: https://pkgstore.datahub.io/core/s-and-p-500-companies-financials/constituents-financials_csv/data/8e571d9a5791c6355cd5ef8455d56920/constituents-financials_csv.csv [following]\n",
            "--2021-09-03 11:01:42--  https://pkgstore.datahub.io/core/s-and-p-500-companies-financials/constituents-financials_csv/data/8e571d9a5791c6355cd5ef8455d56920/constituents-financials_csv.csv\n",
            "Resolving pkgstore.datahub.io (pkgstore.datahub.io)... 172.67.157.38, 104.21.40.221, 2606:4700:3030::ac43:9d26, ...\n",
            "Connecting to pkgstore.datahub.io (pkgstore.datahub.io)|172.67.157.38|:443... connected.\n",
            "HTTP request sent, awaiting response... 200 OK\n",
            "Length: 90368 (88K) [text/csv]\n",
            "Saving to: ‘constituents-financials.csv’\n",
            "\n",
            "constituents-financ 100%[===================>]  88.25K  --.-KB/s    in 0.01s   \n",
            "\n",
            "2021-09-03 11:01:42 (8.65 MB/s) - ‘constituents-financials.csv’ saved [90368/90368]\n",
            "\n"
          ]
        }
      ]
    },
    {
      "cell_type": "code",
      "metadata": {
        "id": "QrjUhLoNUZVW"
      },
      "source": [
        "data=pd.read_csv(\"constituents-financials.csv\")\n"
      ],
      "execution_count": null,
      "outputs": []
    },
    {
      "cell_type": "code",
      "metadata": {
        "colab": {
          "base_uri": "https://localhost:8080/"
        },
        "id": "O0ENb8A0Um5M",
        "outputId": "e337e5fa-a504-4dc6-b569-9e3c8d1412c5"
      },
      "source": [
        "print(data)"
      ],
      "execution_count": null,
      "outputs": [
        {
          "output_type": "stream",
          "name": "stdout",
          "text": [
            "    Symbol  ...                                        SEC Filings\n",
            "0      MMM  ...  http://www.sec.gov/cgi-bin/browse-edgar?action...\n",
            "1      AOS  ...  http://www.sec.gov/cgi-bin/browse-edgar?action...\n",
            "2      ABT  ...  http://www.sec.gov/cgi-bin/browse-edgar?action...\n",
            "3     ABBV  ...  http://www.sec.gov/cgi-bin/browse-edgar?action...\n",
            "4      ACN  ...  http://www.sec.gov/cgi-bin/browse-edgar?action...\n",
            "..     ...  ...                                                ...\n",
            "500    XYL  ...  http://www.sec.gov/cgi-bin/browse-edgar?action...\n",
            "501    YUM  ...  http://www.sec.gov/cgi-bin/browse-edgar?action...\n",
            "502    ZBH  ...  http://www.sec.gov/cgi-bin/browse-edgar?action...\n",
            "503   ZION  ...  http://www.sec.gov/cgi-bin/browse-edgar?action...\n",
            "504    ZTS  ...  http://www.sec.gov/cgi-bin/browse-edgar?action...\n",
            "\n",
            "[505 rows x 14 columns]\n"
          ]
        }
      ]
    },
    {
      "cell_type": "code",
      "metadata": {
        "colab": {
          "base_uri": "https://localhost:8080/",
          "height": 428
        },
        "id": "7-senyTpU77g",
        "outputId": "739ed50f-c3b3-4737-a776-5a6c2af0ccb7"
      },
      "source": [
        "data.head()"
      ],
      "execution_count": null,
      "outputs": [
        {
          "output_type": "execute_result",
          "data": {
            "text/html": [
              "<div>\n",
              "<style scoped>\n",
              "    .dataframe tbody tr th:only-of-type {\n",
              "        vertical-align: middle;\n",
              "    }\n",
              "\n",
              "    .dataframe tbody tr th {\n",
              "        vertical-align: top;\n",
              "    }\n",
              "\n",
              "    .dataframe thead th {\n",
              "        text-align: right;\n",
              "    }\n",
              "</style>\n",
              "<table border=\"1\" class=\"dataframe\">\n",
              "  <thead>\n",
              "    <tr style=\"text-align: right;\">\n",
              "      <th></th>\n",
              "      <th>Symbol</th>\n",
              "      <th>Name</th>\n",
              "      <th>Sector</th>\n",
              "      <th>Price</th>\n",
              "      <th>Price/Earnings</th>\n",
              "      <th>Dividend Yield</th>\n",
              "      <th>Earnings/Share</th>\n",
              "      <th>52 Week Low</th>\n",
              "      <th>52 Week High</th>\n",
              "      <th>Market Cap</th>\n",
              "      <th>EBITDA</th>\n",
              "      <th>Price/Sales</th>\n",
              "      <th>Price/Book</th>\n",
              "      <th>SEC Filings</th>\n",
              "    </tr>\n",
              "  </thead>\n",
              "  <tbody>\n",
              "    <tr>\n",
              "      <th>0</th>\n",
              "      <td>MMM</td>\n",
              "      <td>3M Company</td>\n",
              "      <td>Industrials</td>\n",
              "      <td>222.89</td>\n",
              "      <td>24.31</td>\n",
              "      <td>2.332862</td>\n",
              "      <td>7.92</td>\n",
              "      <td>259.77</td>\n",
              "      <td>175.490</td>\n",
              "      <td>138721055226</td>\n",
              "      <td>9.048000e+09</td>\n",
              "      <td>4.390271</td>\n",
              "      <td>11.34</td>\n",
              "      <td>http://www.sec.gov/cgi-bin/browse-edgar?action...</td>\n",
              "    </tr>\n",
              "    <tr>\n",
              "      <th>1</th>\n",
              "      <td>AOS</td>\n",
              "      <td>A.O. Smith Corp</td>\n",
              "      <td>Industrials</td>\n",
              "      <td>60.24</td>\n",
              "      <td>27.76</td>\n",
              "      <td>1.147959</td>\n",
              "      <td>1.70</td>\n",
              "      <td>68.39</td>\n",
              "      <td>48.925</td>\n",
              "      <td>10783419933</td>\n",
              "      <td>6.010000e+08</td>\n",
              "      <td>3.575483</td>\n",
              "      <td>6.35</td>\n",
              "      <td>http://www.sec.gov/cgi-bin/browse-edgar?action...</td>\n",
              "    </tr>\n",
              "    <tr>\n",
              "      <th>2</th>\n",
              "      <td>ABT</td>\n",
              "      <td>Abbott Laboratories</td>\n",
              "      <td>Health Care</td>\n",
              "      <td>56.27</td>\n",
              "      <td>22.51</td>\n",
              "      <td>1.908982</td>\n",
              "      <td>0.26</td>\n",
              "      <td>64.60</td>\n",
              "      <td>42.280</td>\n",
              "      <td>102121042306</td>\n",
              "      <td>5.744000e+09</td>\n",
              "      <td>3.740480</td>\n",
              "      <td>3.19</td>\n",
              "      <td>http://www.sec.gov/cgi-bin/browse-edgar?action...</td>\n",
              "    </tr>\n",
              "    <tr>\n",
              "      <th>3</th>\n",
              "      <td>ABBV</td>\n",
              "      <td>AbbVie Inc.</td>\n",
              "      <td>Health Care</td>\n",
              "      <td>108.48</td>\n",
              "      <td>19.41</td>\n",
              "      <td>2.499560</td>\n",
              "      <td>3.29</td>\n",
              "      <td>125.86</td>\n",
              "      <td>60.050</td>\n",
              "      <td>181386347059</td>\n",
              "      <td>1.031000e+10</td>\n",
              "      <td>6.291571</td>\n",
              "      <td>26.14</td>\n",
              "      <td>http://www.sec.gov/cgi-bin/browse-edgar?action...</td>\n",
              "    </tr>\n",
              "    <tr>\n",
              "      <th>4</th>\n",
              "      <td>ACN</td>\n",
              "      <td>Accenture plc</td>\n",
              "      <td>Information Technology</td>\n",
              "      <td>150.51</td>\n",
              "      <td>25.47</td>\n",
              "      <td>1.714470</td>\n",
              "      <td>5.44</td>\n",
              "      <td>162.60</td>\n",
              "      <td>114.820</td>\n",
              "      <td>98765855553</td>\n",
              "      <td>5.643228e+09</td>\n",
              "      <td>2.604117</td>\n",
              "      <td>10.62</td>\n",
              "      <td>http://www.sec.gov/cgi-bin/browse-edgar?action...</td>\n",
              "    </tr>\n",
              "  </tbody>\n",
              "</table>\n",
              "</div>"
            ],
            "text/plain": [
              "  Symbol  ...                                        SEC Filings\n",
              "0    MMM  ...  http://www.sec.gov/cgi-bin/browse-edgar?action...\n",
              "1    AOS  ...  http://www.sec.gov/cgi-bin/browse-edgar?action...\n",
              "2    ABT  ...  http://www.sec.gov/cgi-bin/browse-edgar?action...\n",
              "3   ABBV  ...  http://www.sec.gov/cgi-bin/browse-edgar?action...\n",
              "4    ACN  ...  http://www.sec.gov/cgi-bin/browse-edgar?action...\n",
              "\n",
              "[5 rows x 14 columns]"
            ]
          },
          "metadata": {},
          "execution_count": 38
        }
      ]
    },
    {
      "cell_type": "code",
      "metadata": {
        "colab": {
          "base_uri": "https://localhost:8080/"
        },
        "id": "Vpw3U76UVhhK",
        "outputId": "b837cfce-1712-40b3-baf7-c169df278c6a"
      },
      "source": [
        "XY = np.array(data[1:])\n",
        "print(XY)"
      ],
      "execution_count": null,
      "outputs": [
        {
          "output_type": "stream",
          "name": "stdout",
          "text": [
            "[['AOS' 'A.O. Smith Corp' 'Industrials' ... 3.5754826 6.35\n",
            "  'http://www.sec.gov/cgi-bin/browse-edgar?action=getcompany&CIK=AOS']\n",
            " ['ABT' 'Abbott Laboratories' 'Health Care' ... 3.7404803999999996 3.19\n",
            "  'http://www.sec.gov/cgi-bin/browse-edgar?action=getcompany&CIK=ABT']\n",
            " ['ABBV' 'AbbVie Inc.' 'Health Care' ... 6.291571 26.14\n",
            "  'http://www.sec.gov/cgi-bin/browse-edgar?action=getcompany&CIK=ABBV']\n",
            " ...\n",
            " ['ZBH' 'Zimmer Biomet Holdings' 'Health Care' ... 3.1648953 2.39\n",
            "  'http://www.sec.gov/cgi-bin/browse-edgar?action=getcompany&CIK=ZBH']\n",
            " ['ZION' 'Zions Bancorp' 'Financials' ... 3.7945792999999997 1.42\n",
            "  'http://www.sec.gov/cgi-bin/browse-edgar?action=getcompany&CIK=ZION']\n",
            " ['ZTS' 'Zoetis' 'Health Care' ... 9.280896 18.09\n",
            "  'http://www.sec.gov/cgi-bin/browse-edgar?action=getcompany&CIK=ZTS']]\n"
          ]
        }
      ]
    },
    {
      "cell_type": "code",
      "metadata": {
        "colab": {
          "base_uri": "https://localhost:8080/"
        },
        "id": "zPt-sL_pU-7z",
        "outputId": "5e92075c-256d-40e1-b939-2b9ba1558b09"
      },
      "source": [
        "#mean\n",
        "print(\"Mean of the data: \",np.mean(data))"
      ],
      "execution_count": null,
      "outputs": [
        {
          "output_type": "stream",
          "name": "stdout",
          "text": [
            "Mean of the data:  Price             1.038306e+02\n",
            "Price/Earnings    2.480839e+01\n",
            "Dividend Yield    1.895953e+00\n",
            "Earnings/Share    3.753743e+00\n",
            "52 Week Low       1.226238e+02\n",
            "52 Week High      8.353662e+01\n",
            "Market Cap        4.923944e+10\n",
            "EBITDA            3.590328e+09\n",
            "Price/Sales       3.941705e+00\n",
            "Price/Book        1.445318e+01\n",
            "dtype: float64\n"
          ]
        }
      ]
    },
    {
      "cell_type": "code",
      "metadata": {
        "colab": {
          "base_uri": "https://localhost:8080/"
        },
        "id": "Gy0gnjdSVSlJ",
        "outputId": "33620157-cd54-429e-cec8-6ee83e20341e"
      },
      "source": [
        "#mode\n",
        "from scipy import stats\n",
        "mode=stats.mode(XY)\n",
        "print(mode)"
      ],
      "execution_count": null,
      "outputs": [
        {
          "output_type": "stream",
          "name": "stdout",
          "text": [
            "ModeResult(mode=array([['A', 'A.O. Smith Corp', 'Consumer Discretionary', 24.0, 15.35,\n",
            "        0.0, 1.0, 33.67, 36.84, 2626102121, 0.0, 0.15318617, 1.58,\n",
            "        'http://www.sec.gov/cgi-bin/browse-edgar?action=getcompany&CIK=A']],\n",
            "      dtype=object), count=array([[ 1,  1, 84,  2,  6, 86,  4,  2,  2,  1, 58,  1,  4,  1]]))\n"
          ]
        }
      ]
    },
    {
      "cell_type": "code",
      "metadata": {
        "colab": {
          "base_uri": "https://localhost:8080/"
        },
        "id": "i2IIUxhxVZiS",
        "outputId": "1b812b4a-fb38-4157-a760-f092b887d64e"
      },
      "source": [
        "#standard deviation\n",
        "print(np.std(data))"
      ],
      "execution_count": null,
      "outputs": [
        {
          "output_type": "stream",
          "name": "stdout",
          "text": [
            "Price             1.342945e+02\n",
            "Price/Earnings    4.120007e+01\n",
            "Dividend Yield    1.535692e+00\n",
            "Earnings/Share    5.683400e+00\n",
            "52 Week Low       1.552082e+02\n",
            "52 Week High      1.056207e+02\n",
            "Market Cap        8.996097e+10\n",
            "EBITDA            6.833767e+09\n",
            "Price/Sales       3.456683e+00\n",
            "Price/Book        8.957026e+01\n",
            "dtype: float64\n"
          ]
        }
      ]
    },
    {
      "cell_type": "code",
      "metadata": {
        "colab": {
          "base_uri": "https://localhost:8080/"
        },
        "id": "_G18-7u8WKLS",
        "outputId": "08209711-4f84-4400-fff3-20a618ac1788"
      },
      "source": [
        "print(np.var(data))"
      ],
      "execution_count": null,
      "outputs": [
        {
          "output_type": "stream",
          "name": "stdout",
          "text": [
            "Price             1.803501e+04\n",
            "Price/Earnings    1.697445e+03\n",
            "Dividend Yield    2.358349e+00\n",
            "Earnings/Share    3.230104e+01\n",
            "52 Week Low       2.408960e+04\n",
            "52 Week High      1.115574e+04\n",
            "Market Cap        8.092976e+21\n",
            "EBITDA            4.670038e+19\n",
            "Price/Sales       1.194866e+01\n",
            "Price/Book        8.022832e+03\n",
            "dtype: float64\n"
          ]
        }
      ]
    },
    {
      "cell_type": "code",
      "metadata": {
        "colab": {
          "base_uri": "https://localhost:8080/"
        },
        "id": "TcPMODi1WqVy",
        "outputId": "d50dc47e-8d25-4b86-c3b3-680f88aa422c"
      },
      "source": [
        "data=pd.DataFrame(XY)\n",
        "print(data.isnull().sum())"
      ],
      "execution_count": null,
      "outputs": [
        {
          "output_type": "stream",
          "name": "stdout",
          "text": [
            "0     0\n",
            "1     0\n",
            "2     0\n",
            "3     0\n",
            "4     2\n",
            "5     0\n",
            "6     0\n",
            "7     0\n",
            "8     0\n",
            "9     0\n",
            "10    0\n",
            "11    0\n",
            "12    8\n",
            "13    0\n",
            "dtype: int64\n"
          ]
        }
      ]
    },
    {
      "cell_type": "code",
      "metadata": {
        "colab": {
          "base_uri": "https://localhost:8080/"
        },
        "id": "YOOxAhxpXARg",
        "outputId": "94f6a456-e43b-4143-90e6-e1e3ae9024e9"
      },
      "source": [
        "data.columns"
      ],
      "execution_count": null,
      "outputs": [
        {
          "output_type": "execute_result",
          "data": {
            "text/plain": [
              "RangeIndex(start=0, stop=14, step=1)"
            ]
          },
          "metadata": {},
          "execution_count": 57
        }
      ]
    },
    {
      "cell_type": "code",
      "metadata": {
        "colab": {
          "base_uri": "https://localhost:8080/",
          "height": 394
        },
        "id": "5sXUgR4xXD8n",
        "outputId": "46b28aad-343a-4d80-c5e2-9a0193bcd7c1"
      },
      "source": [
        "data.head()"
      ],
      "execution_count": null,
      "outputs": [
        {
          "output_type": "execute_result",
          "data": {
            "text/html": [
              "<div>\n",
              "<style scoped>\n",
              "    .dataframe tbody tr th:only-of-type {\n",
              "        vertical-align: middle;\n",
              "    }\n",
              "\n",
              "    .dataframe tbody tr th {\n",
              "        vertical-align: top;\n",
              "    }\n",
              "\n",
              "    .dataframe thead th {\n",
              "        text-align: right;\n",
              "    }\n",
              "</style>\n",
              "<table border=\"1\" class=\"dataframe\">\n",
              "  <thead>\n",
              "    <tr style=\"text-align: right;\">\n",
              "      <th></th>\n",
              "      <th>0</th>\n",
              "      <th>1</th>\n",
              "      <th>2</th>\n",
              "      <th>3</th>\n",
              "      <th>4</th>\n",
              "      <th>5</th>\n",
              "      <th>6</th>\n",
              "      <th>7</th>\n",
              "      <th>8</th>\n",
              "      <th>9</th>\n",
              "      <th>10</th>\n",
              "      <th>11</th>\n",
              "      <th>12</th>\n",
              "      <th>13</th>\n",
              "    </tr>\n",
              "  </thead>\n",
              "  <tbody>\n",
              "    <tr>\n",
              "      <th>0</th>\n",
              "      <td>AOS</td>\n",
              "      <td>A.O. Smith Corp</td>\n",
              "      <td>Industrials</td>\n",
              "      <td>60.24</td>\n",
              "      <td>27.76</td>\n",
              "      <td>1.14796</td>\n",
              "      <td>1.7</td>\n",
              "      <td>68.39</td>\n",
              "      <td>48.925</td>\n",
              "      <td>10783419933</td>\n",
              "      <td>6.01e+08</td>\n",
              "      <td>3.57548</td>\n",
              "      <td>6.35</td>\n",
              "      <td>http://www.sec.gov/cgi-bin/browse-edgar?action...</td>\n",
              "    </tr>\n",
              "    <tr>\n",
              "      <th>1</th>\n",
              "      <td>ABT</td>\n",
              "      <td>Abbott Laboratories</td>\n",
              "      <td>Health Care</td>\n",
              "      <td>56.27</td>\n",
              "      <td>22.51</td>\n",
              "      <td>1.90898</td>\n",
              "      <td>0.26</td>\n",
              "      <td>64.6</td>\n",
              "      <td>42.28</td>\n",
              "      <td>102121042306</td>\n",
              "      <td>5.744e+09</td>\n",
              "      <td>3.74048</td>\n",
              "      <td>3.19</td>\n",
              "      <td>http://www.sec.gov/cgi-bin/browse-edgar?action...</td>\n",
              "    </tr>\n",
              "    <tr>\n",
              "      <th>2</th>\n",
              "      <td>ABBV</td>\n",
              "      <td>AbbVie Inc.</td>\n",
              "      <td>Health Care</td>\n",
              "      <td>108.48</td>\n",
              "      <td>19.41</td>\n",
              "      <td>2.49956</td>\n",
              "      <td>3.29</td>\n",
              "      <td>125.86</td>\n",
              "      <td>60.05</td>\n",
              "      <td>181386347059</td>\n",
              "      <td>1.031e+10</td>\n",
              "      <td>6.29157</td>\n",
              "      <td>26.14</td>\n",
              "      <td>http://www.sec.gov/cgi-bin/browse-edgar?action...</td>\n",
              "    </tr>\n",
              "    <tr>\n",
              "      <th>3</th>\n",
              "      <td>ACN</td>\n",
              "      <td>Accenture plc</td>\n",
              "      <td>Information Technology</td>\n",
              "      <td>150.51</td>\n",
              "      <td>25.47</td>\n",
              "      <td>1.71447</td>\n",
              "      <td>5.44</td>\n",
              "      <td>162.6</td>\n",
              "      <td>114.82</td>\n",
              "      <td>98765855553</td>\n",
              "      <td>5.64323e+09</td>\n",
              "      <td>2.60412</td>\n",
              "      <td>10.62</td>\n",
              "      <td>http://www.sec.gov/cgi-bin/browse-edgar?action...</td>\n",
              "    </tr>\n",
              "    <tr>\n",
              "      <th>4</th>\n",
              "      <td>ATVI</td>\n",
              "      <td>Activision Blizzard</td>\n",
              "      <td>Information Technology</td>\n",
              "      <td>65.83</td>\n",
              "      <td>31.8</td>\n",
              "      <td>0.431903</td>\n",
              "      <td>1.28</td>\n",
              "      <td>74.945</td>\n",
              "      <td>38.93</td>\n",
              "      <td>52518668144</td>\n",
              "      <td>2.704e+09</td>\n",
              "      <td>10.5951</td>\n",
              "      <td>5.16</td>\n",
              "      <td>http://www.sec.gov/cgi-bin/browse-edgar?action...</td>\n",
              "    </tr>\n",
              "  </tbody>\n",
              "</table>\n",
              "</div>"
            ],
            "text/plain": [
              "     0   ...                                                 13\n",
              "0   AOS  ...  http://www.sec.gov/cgi-bin/browse-edgar?action...\n",
              "1   ABT  ...  http://www.sec.gov/cgi-bin/browse-edgar?action...\n",
              "2  ABBV  ...  http://www.sec.gov/cgi-bin/browse-edgar?action...\n",
              "3   ACN  ...  http://www.sec.gov/cgi-bin/browse-edgar?action...\n",
              "4  ATVI  ...  http://www.sec.gov/cgi-bin/browse-edgar?action...\n",
              "\n",
              "[5 rows x 14 columns]"
            ]
          },
          "metadata": {},
          "execution_count": 69
        }
      ]
    },
    {
      "cell_type": "code",
      "metadata": {
        "colab": {
          "base_uri": "https://localhost:8080/",
          "height": 261
        },
        "id": "lGkevPulYSPV",
        "outputId": "67798046-72fb-4ef5-bd5f-7c2ad31b5c98"
      },
      "source": [
        "data.describe()\n"
      ],
      "execution_count": null,
      "outputs": [
        {
          "output_type": "execute_result",
          "data": {
            "text/html": [
              "<div>\n",
              "<style scoped>\n",
              "    .dataframe tbody tr th:only-of-type {\n",
              "        vertical-align: middle;\n",
              "    }\n",
              "\n",
              "    .dataframe tbody tr th {\n",
              "        vertical-align: top;\n",
              "    }\n",
              "\n",
              "    .dataframe thead th {\n",
              "        text-align: right;\n",
              "    }\n",
              "</style>\n",
              "<table border=\"1\" class=\"dataframe\">\n",
              "  <thead>\n",
              "    <tr style=\"text-align: right;\">\n",
              "      <th></th>\n",
              "      <th>0</th>\n",
              "      <th>1</th>\n",
              "      <th>2</th>\n",
              "      <th>3</th>\n",
              "      <th>4</th>\n",
              "      <th>5</th>\n",
              "      <th>6</th>\n",
              "      <th>7</th>\n",
              "      <th>8</th>\n",
              "      <th>9</th>\n",
              "      <th>10</th>\n",
              "      <th>11</th>\n",
              "      <th>12</th>\n",
              "      <th>13</th>\n",
              "    </tr>\n",
              "  </thead>\n",
              "  <tbody>\n",
              "    <tr>\n",
              "      <th>count</th>\n",
              "      <td>504</td>\n",
              "      <td>504</td>\n",
              "      <td>504</td>\n",
              "      <td>504.00</td>\n",
              "      <td>502.00</td>\n",
              "      <td>504.0</td>\n",
              "      <td>504.0</td>\n",
              "      <td>504.0</td>\n",
              "      <td>504.00</td>\n",
              "      <td>504</td>\n",
              "      <td>504.0</td>\n",
              "      <td>504.000000</td>\n",
              "      <td>496.00</td>\n",
              "      <td>504</td>\n",
              "    </tr>\n",
              "    <tr>\n",
              "      <th>unique</th>\n",
              "      <td>504</td>\n",
              "      <td>504</td>\n",
              "      <td>11</td>\n",
              "      <td>493.00</td>\n",
              "      <td>456.00</td>\n",
              "      <td>419.0</td>\n",
              "      <td>402.0</td>\n",
              "      <td>500.0</td>\n",
              "      <td>494.00</td>\n",
              "      <td>504</td>\n",
              "      <td>443.0</td>\n",
              "      <td>504.000000</td>\n",
              "      <td>390.00</td>\n",
              "      <td>504</td>\n",
              "    </tr>\n",
              "    <tr>\n",
              "      <th>top</th>\n",
              "      <td>KORS</td>\n",
              "      <td>Twenty-First Century Fox Class B</td>\n",
              "      <td>Consumer Discretionary</td>\n",
              "      <td>60.38</td>\n",
              "      <td>15.35</td>\n",
              "      <td>0.0</td>\n",
              "      <td>1.0</td>\n",
              "      <td>75.0</td>\n",
              "      <td>53.63</td>\n",
              "      <td>13620847614</td>\n",
              "      <td>0.0</td>\n",
              "      <td>1.940617</td>\n",
              "      <td>3.25</td>\n",
              "      <td>http://www.sec.gov/cgi-bin/browse-edgar?action...</td>\n",
              "    </tr>\n",
              "    <tr>\n",
              "      <th>freq</th>\n",
              "      <td>1</td>\n",
              "      <td>1</td>\n",
              "      <td>84</td>\n",
              "      <td>2.00</td>\n",
              "      <td>7.00</td>\n",
              "      <td>86.0</td>\n",
              "      <td>4.0</td>\n",
              "      <td>2.0</td>\n",
              "      <td>2.00</td>\n",
              "      <td>1</td>\n",
              "      <td>58.0</td>\n",
              "      <td>1.000000</td>\n",
              "      <td>4.00</td>\n",
              "      <td>1</td>\n",
              "    </tr>\n",
              "  </tbody>\n",
              "</table>\n",
              "</div>"
            ],
            "text/plain": [
              "          0   ...                                                 13\n",
              "count    504  ...                                                504\n",
              "unique   504  ...                                                504\n",
              "top     KORS  ...  http://www.sec.gov/cgi-bin/browse-edgar?action...\n",
              "freq       1  ...                                                  1\n",
              "\n",
              "[4 rows x 14 columns]"
            ]
          },
          "metadata": {},
          "execution_count": 72
        }
      ]
    },
    {
      "cell_type": "code",
      "metadata": {
        "id": "0JM6YFQgXVUs"
      },
      "source": [
        "xy=XY[:,7:8]"
      ],
      "execution_count": null,
      "outputs": []
    },
    {
      "cell_type": "code",
      "metadata": {
        "colab": {
          "base_uri": "https://localhost:8080/"
        },
        "id": "kO4NaSeIZJ5-",
        "outputId": "1752ebe3-cc0d-4a3d-9eec-fee9ce2b7b3f"
      },
      "source": [
        "(unique,counts)=np.unique(xy,return_counts=True)\n",
        "print(unique,counts)"
      ],
      "execution_count": null,
      "outputs": [
        {
          "output_type": "stream",
          "name": "stdout",
          "text": [
            "[6.59 12.05 13.48 15.65 16.53 16.97 17.29 17.7 19.52 19.9 20.14 20.25\n",
            " 21.175 21.53 21.805 22.21 22.22 22.75 23.46 24.1 24.88 25.15 25.71 25.72\n",
            " 25.73 26.3 27.61 27.76 28.3 29.18 29.57 29.78 29.93 30.14 30.25 30.45\n",
            " 30.59 30.96 31.17 31.8 32.67 33.67 33.73 33.79 33.91 34.09 34.2 34.36\n",
            " 34.75 35.0 35.1 35.21 35.22 35.68 36.56 37.2 37.42 37.89 38.0 38.41 38.43\n",
            " 38.56 39.135 39.43 39.6 40.105 40.2 40.59 40.71 41.53 41.68 41.895 42.04\n",
            " 42.67 42.7 42.98 43.24 43.74 43.8599 43.98 44.0 44.37 45.55 45.73 46.0\n",
            " 46.445 46.6 46.72 46.76 46.8 46.855 46.99 47.23 47.25 47.27 47.44 47.65\n",
            " 47.82 48.23 48.295 48.615 49.19 49.89 50.62 50.71 50.85 51.92 52.22 52.88\n",
            " 53.0 53.14 53.28 53.29 53.32 53.51 53.59 54.1799 54.77 54.97 55.08 55.48\n",
            " 55.61 55.99 56.0 56.25 56.45 56.58 57.73 57.815 57.86 57.9 58.05 58.22\n",
            " 58.25 58.5 58.73 58.99 59.08 59.2 60.04 60.59 60.79 60.89 61.315 61.36\n",
            " 61.48 62.09 62.19 63.1 63.4 63.6 63.73 64.0599 64.23 64.27 64.6 64.87\n",
            " 64.89 64.96 66.1 66.15 66.31 66.5 66.8 66.94 66.985 67.3 67.53 67.54\n",
            " 67.84 68.39 68.83 68.98 69.14 69.28 69.4 69.56 69.73 69.9028 69.95 70.0\n",
            " 70.09 70.095 70.215 70.455 70.48 70.55 71.28 71.55 71.57 72.05 72.06\n",
            " 72.17 72.18 72.36 72.58 72.7 73.0 73.1 73.53 73.62 73.86 74.45 74.84\n",
            " 74.945 75.0 75.02 75.585 76.1378 76.68 76.69 76.81 77.08 77.26 77.64\n",
            " 77.79 77.86 77.91 77.94 78.07 78.09 78.17 78.51 78.59 78.7 79.28 79.69\n",
            " 80.13 80.7 80.71 81.46 81.93 81.98 82.68 82.71 82.95 83.04 83.29 83.38\n",
            " 83.485 84.0 84.49 84.65 84.88 85.24 85.3 85.66 86.32 86.54 86.68 86.71\n",
            " 86.93 87.95 88.0 88.11 88.56 88.87 89.09 89.3 89.54 89.7 89.72 89.73\n",
            " 89.81 89.85 89.92 91.73 91.8 92.37 92.48 93.495 93.595 93.62 94.67 94.8\n",
            " 95.0 95.77 95.93 96.07 96.91 97.67 97.77 98.18 98.38 98.7 99.1 99.17\n",
            " 99.95 100.11 100.18 100.54 101.43 102.14 102.385 102.95 103.65 103.9\n",
            " 104.08 104.78 104.82 105.36 105.82 106.27 106.5 106.84 106.985 107.47\n",
            " 107.75 107.78 108.23 108.91 108.98 109.06 109.67 109.98 110.67 110.95\n",
            " 111.44 111.72 112.42 112.965 113.26 114.27 114.52 114.85 114.97 115.34\n",
            " 116.1 116.2 116.49 116.65 116.74 117.3529 117.65 118.28 119.0 119.33\n",
            " 120.07 120.75 121.65 121.71 121.95 122.0697 122.51 122.975 123.15 123.55\n",
            " 123.67 125.24 125.86 126.49 126.65 126.88 127.14 127.23 127.96 129.74\n",
            " 130.29 131.01 131.1 131.1316 133.49 133.88 134.37 135.53 135.65 135.77\n",
            " 136.21 136.31 138.48 138.54 138.74 139.24 139.63 140.13 140.5 141.2\n",
            " 142.16 143.05 143.68 143.79 144.2 144.99 147.02 147.17 148.32 149.21\n",
            " 149.34 149.5 150.4 150.55 152.78 153.15 155.28 157.1499 157.4 157.5\n",
            " 157.96 159.64 160.07 160.67 161.0 162.6 162.91 163.0 164.9 165.0 165.13\n",
            " 166.95 167.23 169.55 169.96 170.0 170.59 171.96 173.24 174.955 175.17\n",
            " 176.62 177.11 177.67 178.7 178.86 179.07 180.1 181.715 182.79 183.9\n",
            " 185.38 185.47 187.35 189.0 193.85 194.18 194.4 195.32 198.73 199.52\n",
            " 199.83 199.88 201.23 202.99 203.63 204.45 207.605 210.72 212.8 213.45\n",
            " 216.995 217.62 218.705 219.7 220.2 225.36 226.44 227.13 229.5 229.54\n",
            " 232.21 244.32 248.3888 248.97 249.27 250.79 253.44 256.39 256.8 267.95\n",
            " 270.04 273.79 274.66 277.17 278.33 279.23 285.68 286.81 286.85 287.32\n",
            " 290.415 293.35 298.145 314.86 321.38 349.18 361.45 361.79 370.57 408.83\n",
            " 435.15 452.0 495.345 499.0 543.5518 594.52 697.26 797.89 1186.89 1198.0\n",
            " 1498.0 2067.99] [1 1 1 1 1 1 1 1 1 1 1 1 1 1 1 1 1 1 1 1 1 1 1 1 1 1 1 1 1 1 1 1 1 1 1 1 1\n",
            " 1 1 1 1 2 1 1 1 1 1 1 1 1 1 1 1 1 1 1 1 1 1 1 1 1 1 1 1 1 1 1 1 1 1 1 1 1\n",
            " 1 1 1 1 1 1 1 1 1 1 1 1 1 1 1 1 1 1 1 1 1 1 1 1 1 1 1 1 1 1 1 2 1 1 1 1 1\n",
            " 1 1 1 1 1 1 1 1 1 1 1 1 1 1 1 1 1 1 1 1 1 1 1 1 1 1 1 1 1 1 1 1 1 1 1 1 1\n",
            " 1 1 1 1 1 1 1 1 1 1 1 1 1 1 1 1 1 1 1 1 1 1 1 1 1 1 1 1 1 1 1 1 1 1 1 1 1\n",
            " 1 1 1 1 1 1 1 1 1 1 1 1 1 1 1 1 1 1 1 1 2 1 1 1 1 1 1 1 1 1 1 1 1 1 1 1 1\n",
            " 1 1 1 1 1 1 1 1 1 1 1 1 1 1 1 1 1 1 1 1 1 1 1 1 1 1 1 1 1 1 1 2 1 1 1 1 1\n",
            " 1 1 1 1 1 1 1 1 1 1 1 1 1 1 1 1 1 1 1 1 1 1 1 1 1 1 1 1 1 1 1 1 1 1 1 1 1\n",
            " 1 1 1 1 1 1 1 1 1 1 1 1 1 1 1 1 1 1 1 1 1 1 1 1 1 1 1 1 1 1 1 1 1 1 1 1 1\n",
            " 1 1 1 1 1 1 1 1 1 1 1 1 1 1 1 1 1 1 1 1 1 1 1 1 1 1 1 1 1 1 1 1 1 1 1 1 1\n",
            " 1 1 1 1 1 1 1 1 1 1 1 1 1 1 1 1 1 1 1 1 1 1 1 1 1 1 1 1 1 1 1 1 1 1 1 1 1\n",
            " 1 1 1 1 1 1 1 1 1 1 1 1 1 1 1 1 1 1 1 1 1 1 1 1 1 1 1 1 1 1 1 1 1 1 1 1 1\n",
            " 1 1 1 1 1 1 1 1 1 1 1 1 1 1 1 1 1 1 1 1 1 1 1 1 1 1 1 1 1 1 1 1 1 1 1 1 1\n",
            " 1 1 1 1 1 1 1 1 1 1 1 1 1 1 1 1 1 1 1]\n"
          ]
        }
      ]
    },
    {
      "cell_type": "code",
      "metadata": {
        "colab": {
          "base_uri": "https://localhost:8080/",
          "height": 248
        },
        "id": "Fs0WsDfsZddV",
        "outputId": "fff842ac-4a41-44cb-ceb8-77291e84581a"
      },
      "source": [
        "plt.pie(counts)\n",
        "plt.show()"
      ],
      "execution_count": null,
      "outputs": [
        {
          "output_type": "display_data",
          "data": {
            "image/png": "[encoded data removed]",
            "text/plain": [
              "<Figure size 432x288 with 1 Axes>"
            ]
          },
          "metadata": {}
        }
      ]
    },
    {
      "cell_type": "code",
      "metadata": {
        "colab": {
          "base_uri": "https://localhost:8080/",
          "height": 265
        },
        "id": "CgVyU6xeZi2q",
        "outputId": "060d2827-d6a4-4438-919f-7f3c9807867f"
      },
      "source": [
        "plt.hist(XY)\n",
        "plt.show()"
      ],
      "execution_count": null,
      "outputs": [
        {
          "output_type": "display_data",
          "data": {
            "image/png": "[encoded data removed]",
            "text/plain": [
              "<Figure size 432x288 with 1 Axes>"
            ]
          },
          "metadata": {
            "needs_background": "light"
          }
        }
      ]
    },
    {
      "cell_type": "code",
      "metadata": {
        "id": "-88C8kixZ5tk"
      },
      "source": [
        ""
      ],
      "execution_count": null,
      "outputs": []
    }
  ]
}