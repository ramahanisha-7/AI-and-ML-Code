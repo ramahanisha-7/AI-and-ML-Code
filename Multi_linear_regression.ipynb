{
  "nbformat": 4,
  "nbformat_minor": 0,
  "metadata": {
    "kernelspec": {
      "display_name": "Python 3",
      "language": "python",
      "name": "python3"
    },
    "language_info": {
      "codemirror_mode": {
        "name": "ipython",
        "version": 3
      },
      "file_extension": ".py",
      "mimetype": "text/x-python",
      "name": "python",
      "nbconvert_exporter": "python",
      "pygments_lexer": "ipython3",
      "version": "3.7.3"
    },
    "toc": {
      "base_numbering": 1,
      "nav_menu": {},
      "number_sections": true,
      "sideBar": true,
      "skip_h1_title": false,
      "title_cell": "Table of Contents",
      "title_sidebar": "Contents",
      "toc_cell": false,
      "toc_position": {},
      "toc_section_display": true,
      "toc_window_display": false
    },
    "colab": {
      "name": "Multi linear regression.ipynb",
      "provenance": [],
      "collapsed_sections": []
    }
  },
  "cells": [
    {
      "cell_type": "markdown",
      "metadata": {
        "id": "75cvguDws7Y2"
      },
      "source": [
        "#### Predict your scores better :)\n",
        "As you saw in the previous simple linear regression task that previous year grades (G2) have significant correlation with third year grades (G3). But G2 is not direct causation of G3, there are many factors which determine G3. Let's add few more variables which may help to determine G3."
      ]
    },
    {
      "cell_type": "markdown",
      "metadata": {
        "id": "5mLoPFhDs7Y5"
      },
      "source": [
        "### Multiple linear regression\n",
        "Multiple linear regression is simply the linear regression extended to problems where the dependent or output variable is determined by more than one independent variable.<br>\n",
        "\n",
        "#####  $\\hat{y}$ (w, x) = w_0 + w_1 * x_1 + ... + w_p * x_ps\n",
        "\n",
        "#### Dataset\n",
        "The dataset is available at __\"data/multiple_linear_data.csv\"__ in the respective challenge's repo.<br><br>\n",
        "\n",
        "This is the __modified version__ of the dataset *'Student Performance'* provided by UCI Machine Learning repository.<br>\n",
        "Original dataset: https://archive.ics.uci.edu/ml/datasets/student+performance\n",
        "\n",
        "#### Features (X)\n",
        "1. age - student's age (numeric: from 15 to 22)\n",
        "2. address - student's home address type (binary: 'U' - urban or 'R' - rural)\n",
        "3. famsize - family size (binary: 'LE3' - less or equal to 3 or 'GT3' - greater than 3)\n",
        "4. reason - reason to choose this school (nominal: close to 'home', school 'reputation', 'course' preference or 'other')\n",
        "5. studytime - weekly study time (numeric: 1 - <2 hours, 2 - 2 to 5 hours, 3 - 5 to 10 hours, or 4 - >10 hours)\n",
        "6. failures - number of past class failures (numeric: n if 1<=n<3, else 4)\n",
        "7. schoolsup - extra educational support (binary: yes or no)\n",
        "8. famsup - family educational support (binary: yes or no)\n",
        "9. paid - extra paid classes within the course subject (Math or Portuguese) (binary: yes or no)\n",
        "10. activities - extra-curricular activities (binary: yes or no)\n",
        "11. higher - wants to take higher education (binary: yes or no)\n",
        "12. internet - Internet access at home (binary: yes or no)\n",
        "13. romantic - with a romantic relationship (binary: yes or no)\n",
        "14. freetime - free time after school (numeric: from 1 - very low to 5 - very high)\n",
        "15. goout - going out with friends (numeric: from 1 - very low to 5 - very high)\n",
        "16. health - current health status (numeric: from 1 - very bad to 5 - very good)\n",
        "17. absences - number of school absences (numeric: from 0 to 93)\n",
        "18. G1 - first year math grades (numeric: from 0 to 100)\n",
        "19. G2 - second year math grades (numeric: from 0 to 100)\n",
        "\n",
        "#### Output target (Y) \n",
        "20. G3 - final year math grades (numeric: from 0 to 100, output target)\n",
        "\n",
        "#### Objective\n",
        "To learn multiple linear regression and practice handling categorical features\n",
        "\n",
        "#### Tasks\n",
        "- To load the data and print first 5 rows\n",
        "- Transform categorical features into numerical features. Use either one hot encoding, label encoding or any other suitable preprocessing technique.\n",
        "- Define X matrix (independent features) and y vector (target feature)\n",
        "- Train Linear Regression Model (sklearn.linear_model.LinearRegression class)\n",
        "- Print 'Mean Squared Error' (MSE) obtained on the same dataset i.e. same X and y (sklearn.metrics.mean_squared_error function)\n",
        "- Predict on a numpy array defined by you\n",
        "```python\n",
        ">>> new_data = np.array([1,0,1,.....,30,20]).reshape(1,-1)\n",
        ">>> print(\"Predicted grade:\",model.predict(new_data))\n",
        "```\n",
        "\n",
        "#### Further fun (will not be evaluated)\n",
        "- Train LassoRegression and RidgeRegression as well. Read about them from scikit-learn user guide.\n",
        "- *Step-up challenge*: Get down the MSE (mean squared error) below 3.25 using linear models\n",
        "- Implement multiple linear regression from scratch\n",
        "- Plot loss curve (Loss vs number of iterations)\n",
        "\n",
        "#### Helpful links\n",
        "- Scikit-learn documentation for linear regression: https://scikit-learn.org/stable/modules/generated/sklearn.linear_model.LinearRegression.html\n",
        "- Read till where you feel comfortable: https://jakevdp.github.io/PythonDataScienceHandbook/05.06-linear-regression.html\n",
        "- Use slack for doubts: https://join.slack.com/t/deepconnectai/shared_invite/zt-givlfnf6-~cn3SQ43k0BGDrG9_YOn4g"
      ]
    },
    {
      "cell_type": "code",
      "metadata": {
        "id": "T8QBT2Ois7Y6"
      },
      "source": [
        "import numpy as np\n",
        "import pandas as pd\n",
        "from sklearn.linear_model import LinearRegression\n",
        "from sklearn.metrics import mean_squared_error\n",
        "\n",
        "# IF sklearn.compose.ColumnTransformer is used for feature transformation, then below import will help to infer features\n",
        "# from helper.utils import get_column_names_from_ColumnTransformer"
      ],
      "execution_count": null,
      "outputs": []
    },
    {
      "cell_type": "code",
      "metadata": {
        "colab": {
          "base_uri": "https://localhost:8080/"
        },
        "id": "mlUAN2vos984",
        "outputId": "9fbfae50-c6d6-4303-a22e-00fb065f92e4"
      },
      "source": [
        "!wget \"https://raw.githubusercontent.com/ramahanisha-7/Datasets/main/multiple_linear_data.csv\""
      ],
      "execution_count": null,
      "outputs": [
        {
          "output_type": "stream",
          "name": "stdout",
          "text": [
            "--2021-09-14 17:40:02--  https://raw.githubusercontent.com/ramahanisha-7/Datasets/main/multiple_linear_data.csv\n",
            "Resolving raw.githubusercontent.com (raw.githubusercontent.com)... 185.199.108.133, 185.199.109.133, 185.199.111.133, ...\n",
            "Connecting to raw.githubusercontent.com (raw.githubusercontent.com)|185.199.108.133|:443... connected.\n",
            "HTTP request sent, awaiting response... 200 OK\n",
            "Length: 24764 (24K) [text/plain]\n",
            "Saving to: ‘multiple_linear_data.csv’\n",
            "\n",
            "multiple_linear_dat 100%[===================>]  24.18K  --.-KB/s    in 0.002s  \n",
            "\n",
            "2021-09-14 17:40:02 (10.8 MB/s) - ‘multiple_linear_data.csv’ saved [24764/24764]\n",
            "\n"
          ]
        }
      ]
    },
    {
      "cell_type": "code",
      "metadata": {
        "colab": {
          "base_uri": "https://localhost:8080/",
          "height": 224
        },
        "id": "8dw2hAvms7Y7",
        "outputId": "9ba44889-f5cb-4bc1-c3e3-0f30832e6292"
      },
      "source": [
        "# NOTE: DO NOT CHANGE THE VARIABLE NAME(S) IN THIS CELL\n",
        "# Load the data\n",
        "data = pd.read_csv(\"multiple_linear_data.csv\")\n",
        "data.head()"
      ],
      "execution_count": null,
      "outputs": [
        {
          "output_type": "execute_result",
          "data": {
            "text/html": [
              "<div>\n",
              "<style scoped>\n",
              "    .dataframe tbody tr th:only-of-type {\n",
              "        vertical-align: middle;\n",
              "    }\n",
              "\n",
              "    .dataframe tbody tr th {\n",
              "        vertical-align: top;\n",
              "    }\n",
              "\n",
              "    .dataframe thead th {\n",
              "        text-align: right;\n",
              "    }\n",
              "</style>\n",
              "<table border=\"1\" class=\"dataframe\">\n",
              "  <thead>\n",
              "    <tr style=\"text-align: right;\">\n",
              "      <th></th>\n",
              "      <th>age</th>\n",
              "      <th>address</th>\n",
              "      <th>famsize</th>\n",
              "      <th>reason</th>\n",
              "      <th>studytime</th>\n",
              "      <th>failures</th>\n",
              "      <th>schoolsup</th>\n",
              "      <th>famsup</th>\n",
              "      <th>paid</th>\n",
              "      <th>activities</th>\n",
              "      <th>higher</th>\n",
              "      <th>internet</th>\n",
              "      <th>romantic</th>\n",
              "      <th>freetime</th>\n",
              "      <th>goout</th>\n",
              "      <th>health</th>\n",
              "      <th>absences</th>\n",
              "      <th>G1</th>\n",
              "      <th>G2</th>\n",
              "      <th>G3</th>\n",
              "    </tr>\n",
              "  </thead>\n",
              "  <tbody>\n",
              "    <tr>\n",
              "      <th>0</th>\n",
              "      <td>18</td>\n",
              "      <td>U</td>\n",
              "      <td>GT3</td>\n",
              "      <td>course</td>\n",
              "      <td>2</td>\n",
              "      <td>0</td>\n",
              "      <td>yes</td>\n",
              "      <td>no</td>\n",
              "      <td>no</td>\n",
              "      <td>no</td>\n",
              "      <td>yes</td>\n",
              "      <td>no</td>\n",
              "      <td>no</td>\n",
              "      <td>3</td>\n",
              "      <td>4</td>\n",
              "      <td>3</td>\n",
              "      <td>6</td>\n",
              "      <td>25</td>\n",
              "      <td>30</td>\n",
              "      <td>30</td>\n",
              "    </tr>\n",
              "    <tr>\n",
              "      <th>1</th>\n",
              "      <td>17</td>\n",
              "      <td>U</td>\n",
              "      <td>GT3</td>\n",
              "      <td>course</td>\n",
              "      <td>2</td>\n",
              "      <td>0</td>\n",
              "      <td>no</td>\n",
              "      <td>yes</td>\n",
              "      <td>no</td>\n",
              "      <td>no</td>\n",
              "      <td>yes</td>\n",
              "      <td>yes</td>\n",
              "      <td>no</td>\n",
              "      <td>3</td>\n",
              "      <td>3</td>\n",
              "      <td>3</td>\n",
              "      <td>4</td>\n",
              "      <td>25</td>\n",
              "      <td>25</td>\n",
              "      <td>30</td>\n",
              "    </tr>\n",
              "    <tr>\n",
              "      <th>2</th>\n",
              "      <td>15</td>\n",
              "      <td>U</td>\n",
              "      <td>LE3</td>\n",
              "      <td>other</td>\n",
              "      <td>2</td>\n",
              "      <td>3</td>\n",
              "      <td>yes</td>\n",
              "      <td>no</td>\n",
              "      <td>yes</td>\n",
              "      <td>no</td>\n",
              "      <td>yes</td>\n",
              "      <td>yes</td>\n",
              "      <td>no</td>\n",
              "      <td>3</td>\n",
              "      <td>2</td>\n",
              "      <td>3</td>\n",
              "      <td>10</td>\n",
              "      <td>35</td>\n",
              "      <td>40</td>\n",
              "      <td>50</td>\n",
              "    </tr>\n",
              "    <tr>\n",
              "      <th>3</th>\n",
              "      <td>15</td>\n",
              "      <td>U</td>\n",
              "      <td>GT3</td>\n",
              "      <td>home</td>\n",
              "      <td>3</td>\n",
              "      <td>0</td>\n",
              "      <td>no</td>\n",
              "      <td>yes</td>\n",
              "      <td>yes</td>\n",
              "      <td>yes</td>\n",
              "      <td>yes</td>\n",
              "      <td>yes</td>\n",
              "      <td>yes</td>\n",
              "      <td>2</td>\n",
              "      <td>2</td>\n",
              "      <td>5</td>\n",
              "      <td>2</td>\n",
              "      <td>75</td>\n",
              "      <td>70</td>\n",
              "      <td>75</td>\n",
              "    </tr>\n",
              "    <tr>\n",
              "      <th>4</th>\n",
              "      <td>16</td>\n",
              "      <td>U</td>\n",
              "      <td>GT3</td>\n",
              "      <td>home</td>\n",
              "      <td>2</td>\n",
              "      <td>0</td>\n",
              "      <td>no</td>\n",
              "      <td>yes</td>\n",
              "      <td>yes</td>\n",
              "      <td>no</td>\n",
              "      <td>yes</td>\n",
              "      <td>no</td>\n",
              "      <td>no</td>\n",
              "      <td>3</td>\n",
              "      <td>2</td>\n",
              "      <td>5</td>\n",
              "      <td>4</td>\n",
              "      <td>30</td>\n",
              "      <td>50</td>\n",
              "      <td>50</td>\n",
              "    </tr>\n",
              "  </tbody>\n",
              "</table>\n",
              "</div>"
            ],
            "text/plain": [
              "   age address famsize  reason  studytime  ...  health absences  G1  G2  G3\n",
              "0   18       U     GT3  course          2  ...       3        6  25  30  30\n",
              "1   17       U     GT3  course          2  ...       3        4  25  25  30\n",
              "2   15       U     LE3   other          2  ...       3       10  35  40  50\n",
              "3   15       U     GT3    home          3  ...       5        2  75  70  75\n",
              "4   16       U     GT3    home          2  ...       5        4  30  50  50\n",
              "\n",
              "[5 rows x 20 columns]"
            ]
          },
          "metadata": {},
          "execution_count": 3
        }
      ]
    },
    {
      "cell_type": "code",
      "metadata": {
        "id": "bPYnVBKts7Y8"
      },
      "source": [
        "# You may need original list of columns to interpret the features after transformation, maybe\n",
        "orig_cols = data.columns\n"
      ],
      "execution_count": null,
      "outputs": []
    },
    {
      "cell_type": "code",
      "metadata": {
        "colab": {
          "base_uri": "https://localhost:8080/"
        },
        "id": "SU5niPSqafHV",
        "outputId": "f35172c1-5cdb-4848-dbd5-dbe9f249c8ca"
      },
      "source": [
        "df=np.array(data[:])\n",
        "print(df)"
      ],
      "execution_count": null,
      "outputs": [
        {
          "output_type": "stream",
          "name": "stdout",
          "text": [
            "[[18 'U' 'GT3' ... 25 30 30]\n",
            " [17 'U' 'GT3' ... 25 25 30]\n",
            " [15 'U' 'LE3' ... 35 40 50]\n",
            " ...\n",
            " [21 'R' 'GT3' ... 50 40 35]\n",
            " [18 'R' 'LE3' ... 55 60 50]\n",
            " [19 'U' 'LE3' ... 40 45 45]]\n"
          ]
        }
      ]
    },
    {
      "cell_type": "code",
      "metadata": {
        "id": "_Uu1QOpLax4p"
      },
      "source": [
        "# Define your X and y\n",
        "X = df[:,:-1]\n",
        "y = df[:,-1:]"
      ],
      "execution_count": null,
      "outputs": []
    },
    {
      "cell_type": "code",
      "metadata": {
        "colab": {
          "base_uri": "https://localhost:8080/"
        },
        "id": "J6x3pkRGVd6L",
        "outputId": "824af326-0d78-4940-825e-c7e972de2e4a"
      },
      "source": [
        "data.isnull().sum()"
      ],
      "execution_count": null,
      "outputs": [
        {
          "output_type": "execute_result",
          "data": {
            "text/plain": [
              "age           0\n",
              "address       0\n",
              "famsize       0\n",
              "reason        0\n",
              "studytime     0\n",
              "failures      0\n",
              "schoolsup     0\n",
              "famsup        0\n",
              "paid          0\n",
              "activities    0\n",
              "higher        0\n",
              "internet      0\n",
              "romantic      0\n",
              "freetime      0\n",
              "goout         0\n",
              "health        0\n",
              "absences      0\n",
              "G1            0\n",
              "G2            0\n",
              "G3            0\n",
              "dtype: int64"
            ]
          },
          "metadata": {},
          "execution_count": 7
        }
      ]
    },
    {
      "cell_type": "code",
      "metadata": {
        "id": "kadp-mxagwy9"
      },
      "source": [
        "#le = preprocessing.LabelEncoder()\n",
        "#data.apply(le.fit_transform)"
      ],
      "execution_count": null,
      "outputs": []
    },
    {
      "cell_type": "code",
      "metadata": {
        "id": "GwZGQAnjs7Y9"
      },
      "source": [
        "# Handle categorical values\n",
        "#address, famsize, schoolsup, famsup, paid, activities, higher, internet, romantic all these can be converted to binary\n",
        "from sklearn.preprocessing import LabelEncoder\n",
        "le=LabelEncoder()\n",
        "X[:,1] = le.fit_transform(X[:,1])\n",
        "X[:,2] = le.fit_transform(X[:,2])\n",
        "X[:,6] = le.fit_transform(X[:,6])\n",
        "X[:,7] = le.fit_transform(X[:,7])\n",
        "X[:,8] = le.fit_transform(X[:,8])\n",
        "X[:,9] = le.fit_transform(X[:,9])\n",
        "X[:,10] = le.fit_transform(X[:,10])\n",
        "X[:,11] = le.fit_transform(X[:,11])\n",
        "X[:,12] = le.fit_transform(X[:,12])\n"
      ],
      "execution_count": null,
      "outputs": []
    },
    {
      "cell_type": "code",
      "metadata": {
        "id": "L4ZNqKNes7Y9",
        "colab": {
          "base_uri": "https://localhost:8080/"
        },
        "outputId": "7c671ce7-ad20-4d0f-ad16-096f40fa68fd"
      },
      "source": [
        "X[1:10]"
      ],
      "execution_count": null,
      "outputs": [
        {
          "output_type": "execute_result",
          "data": {
            "text/plain": [
              "array([[17, 1, 0, 'course', 2, 0, 0, 1, 0, 0, 1, 1, 0, 3, 3, 3, 4, 25,\n",
              "        25],\n",
              "       [15, 1, 1, 'other', 2, 3, 1, 0, 1, 0, 1, 1, 0, 3, 2, 3, 10, 35,\n",
              "        40],\n",
              "       [15, 1, 0, 'home', 3, 0, 0, 1, 1, 1, 1, 1, 1, 2, 2, 5, 2, 75, 70],\n",
              "       [16, 1, 0, 'home', 2, 0, 0, 1, 1, 0, 1, 0, 0, 3, 2, 5, 4, 30, 50],\n",
              "       [16, 1, 1, 'reputation', 2, 0, 0, 1, 1, 1, 1, 1, 0, 4, 2, 5, 10,\n",
              "        75, 75],\n",
              "       [16, 1, 1, 'home', 2, 0, 0, 0, 0, 0, 1, 1, 0, 4, 4, 3, 0, 60, 60],\n",
              "       [17, 1, 0, 'home', 2, 0, 1, 1, 0, 0, 1, 0, 0, 1, 4, 1, 6, 30, 25],\n",
              "       [15, 1, 1, 'home', 2, 0, 0, 1, 1, 0, 1, 1, 0, 2, 2, 1, 0, 80, 90],\n",
              "       [15, 1, 0, 'home', 2, 0, 0, 1, 1, 1, 1, 1, 0, 5, 1, 5, 0, 70, 75]],\n",
              "      dtype=object)"
            ]
          },
          "metadata": {},
          "execution_count": 10
        }
      ]
    },
    {
      "cell_type": "code",
      "metadata": {
        "colab": {
          "base_uri": "https://localhost:8080/"
        },
        "id": "h0gQ8OKJWYBu",
        "outputId": "71d51794-a966-4f34-f46d-21e775d6b361"
      },
      "source": [
        "from sklearn.compose import ColumnTransformer\n",
        "from sklearn.preprocessing import OneHotEncoder\n",
        "ct = ColumnTransformer(transformers=[('enconder', OneHotEncoder(), [3])], remainder='passthrough')\n",
        "X = np.array(ct.fit_transform(X))\n",
        "print(X)"
      ],
      "execution_count": null,
      "outputs": [
        {
          "output_type": "stream",
          "name": "stdout",
          "text": [
            "[[1.0 0.0 0.0 ... 6 25 30]\n",
            " [1.0 0.0 0.0 ... 4 25 25]\n",
            " [0.0 0.0 1.0 ... 10 35 40]\n",
            " ...\n",
            " [1.0 0.0 0.0 ... 3 50 40]\n",
            " [1.0 0.0 0.0 ... 0 55 60]\n",
            " [1.0 0.0 0.0 ... 5 40 45]]\n"
          ]
        }
      ]
    },
    {
      "cell_type": "code",
      "metadata": {
        "colab": {
          "base_uri": "https://localhost:8080/"
        },
        "id": "vGS6bZmLYktz",
        "outputId": "c052e8dc-5efc-4ed3-9f5c-1d5dca7e8edb"
      },
      "source": [
        "X[1:10]"
      ],
      "execution_count": null,
      "outputs": [
        {
          "output_type": "execute_result",
          "data": {
            "text/plain": [
              "array([[1.0, 0.0, 0.0, 0.0, 17, 1, 0, 2, 0, 0, 1, 0, 0, 1, 1, 0, 3, 3, 3,\n",
              "        4, 25, 25],\n",
              "       [0.0, 0.0, 1.0, 0.0, 15, 1, 1, 2, 3, 1, 0, 1, 0, 1, 1, 0, 3, 2, 3,\n",
              "        10, 35, 40],\n",
              "       [0.0, 1.0, 0.0, 0.0, 15, 1, 0, 3, 0, 0, 1, 1, 1, 1, 1, 1, 2, 2, 5,\n",
              "        2, 75, 70],\n",
              "       [0.0, 1.0, 0.0, 0.0, 16, 1, 0, 2, 0, 0, 1, 1, 0, 1, 0, 0, 3, 2, 5,\n",
              "        4, 30, 50],\n",
              "       [0.0, 0.0, 0.0, 1.0, 16, 1, 1, 2, 0, 0, 1, 1, 1, 1, 1, 0, 4, 2, 5,\n",
              "        10, 75, 75],\n",
              "       [0.0, 1.0, 0.0, 0.0, 16, 1, 1, 2, 0, 0, 0, 0, 0, 1, 1, 0, 4, 4, 3,\n",
              "        0, 60, 60],\n",
              "       [0.0, 1.0, 0.0, 0.0, 17, 1, 0, 2, 0, 1, 1, 0, 0, 1, 0, 0, 1, 4, 1,\n",
              "        6, 30, 25],\n",
              "       [0.0, 1.0, 0.0, 0.0, 15, 1, 1, 2, 0, 0, 1, 1, 0, 1, 1, 0, 2, 2, 1,\n",
              "        0, 80, 90],\n",
              "       [0.0, 1.0, 0.0, 0.0, 15, 1, 0, 2, 0, 0, 1, 1, 1, 1, 1, 0, 5, 1, 5,\n",
              "        0, 70, 75]], dtype=object)"
            ]
          },
          "metadata": {},
          "execution_count": 12
        }
      ]
    },
    {
      "cell_type": "code",
      "metadata": {
        "id": "Z5-iBBWds7Y-",
        "colab": {
          "base_uri": "https://localhost:8080/"
        },
        "outputId": "2d20317b-c806-451b-d9c9-0d14336580d4"
      },
      "source": [
        "from sklearn.preprocessing import StandardScaler\n",
        "sc = StandardScaler()\n",
        "print(sc.fit(X))"
      ],
      "execution_count": null,
      "outputs": [
        {
          "output_type": "stream",
          "name": "stdout",
          "text": [
            "StandardScaler(copy=True, with_mean=True, with_std=True)\n"
          ]
        }
      ]
    },
    {
      "cell_type": "code",
      "metadata": {
        "id": "Q7c7ISNOs7Y-",
        "colab": {
          "base_uri": "https://localhost:8080/"
        },
        "outputId": "307af378-52d1-4112-caf2-e778e2e19e94"
      },
      "source": [
        "X[1:10]"
      ],
      "execution_count": null,
      "outputs": [
        {
          "output_type": "execute_result",
          "data": {
            "text/plain": [
              "array([[1.0, 0.0, 0.0, 0.0, 17, 1, 0, 2, 0, 0, 1, 0, 0, 1, 1, 0, 3, 3, 3,\n",
              "        4, 25, 25],\n",
              "       [0.0, 0.0, 1.0, 0.0, 15, 1, 1, 2, 3, 1, 0, 1, 0, 1, 1, 0, 3, 2, 3,\n",
              "        10, 35, 40],\n",
              "       [0.0, 1.0, 0.0, 0.0, 15, 1, 0, 3, 0, 0, 1, 1, 1, 1, 1, 1, 2, 2, 5,\n",
              "        2, 75, 70],\n",
              "       [0.0, 1.0, 0.0, 0.0, 16, 1, 0, 2, 0, 0, 1, 1, 0, 1, 0, 0, 3, 2, 5,\n",
              "        4, 30, 50],\n",
              "       [0.0, 0.0, 0.0, 1.0, 16, 1, 1, 2, 0, 0, 1, 1, 1, 1, 1, 0, 4, 2, 5,\n",
              "        10, 75, 75],\n",
              "       [0.0, 1.0, 0.0, 0.0, 16, 1, 1, 2, 0, 0, 0, 0, 0, 1, 1, 0, 4, 4, 3,\n",
              "        0, 60, 60],\n",
              "       [0.0, 1.0, 0.0, 0.0, 17, 1, 0, 2, 0, 1, 1, 0, 0, 1, 0, 0, 1, 4, 1,\n",
              "        6, 30, 25],\n",
              "       [0.0, 1.0, 0.0, 0.0, 15, 1, 1, 2, 0, 0, 1, 1, 0, 1, 1, 0, 2, 2, 1,\n",
              "        0, 80, 90],\n",
              "       [0.0, 1.0, 0.0, 0.0, 15, 1, 0, 2, 0, 0, 1, 1, 1, 1, 1, 0, 5, 1, 5,\n",
              "        0, 70, 75]], dtype=object)"
            ]
          },
          "metadata": {},
          "execution_count": 14
        }
      ]
    },
    {
      "cell_type": "code",
      "metadata": {
        "id": "V1lrmn7Vs7Y_"
      },
      "source": [
        "# Initialize the model\n",
        "model = LinearRegression()"
      ],
      "execution_count": null,
      "outputs": []
    },
    {
      "cell_type": "code",
      "metadata": {
        "id": "8zvGi3nes7ZA",
        "colab": {
          "base_uri": "https://localhost:8080/"
        },
        "outputId": "8675a910-e095-4e37-83d4-719f6176ad5c"
      },
      "source": [
        "# Fit the model. Wait! We will complete this step for you ;)\n",
        "model.fit(X, y)"
      ],
      "execution_count": null,
      "outputs": [
        {
          "output_type": "execute_result",
          "data": {
            "text/plain": [
              "LinearRegression(copy_X=True, fit_intercept=True, n_jobs=None, normalize=False)"
            ]
          },
          "metadata": {},
          "execution_count": 16
        }
      ]
    },
    {
      "cell_type": "code",
      "metadata": {
        "id": "woo2ITZXfpIg"
      },
      "source": [
        "y_pred=model.predict(X)"
      ],
      "execution_count": null,
      "outputs": []
    },
    {
      "cell_type": "code",
      "metadata": {
        "id": "ANH7m4JDs7ZA",
        "colab": {
          "base_uri": "https://localhost:8080/"
        },
        "outputId": "a995b69f-9506-4b1c-c095-5201f286f892"
      },
      "source": [
        "# Print mean squared error\n",
        "mse = mean_squared_error(y, y_pred)\n",
        "\n",
        "print(f\"\\nMSE: {mse}\")"
      ],
      "execution_count": null,
      "outputs": [
        {
          "output_type": "stream",
          "name": "stdout",
          "text": [
            "\n",
            "MSE: 85.27642516663595\n"
          ]
        }
      ]
    },
    {
      "cell_type": "code",
      "metadata": {
        "colab": {
          "base_uri": "https://localhost:8080/"
        },
        "id": "VDbmclkTcUpJ",
        "outputId": "6db1e98c-d1c3-4dea-d2f8-cd9921dafb41"
      },
      "source": [
        "model.score(X,y)"
      ],
      "execution_count": null,
      "outputs": [
        {
          "output_type": "execute_result",
          "data": {
            "text/plain": [
              "0.8370758928159326"
            ]
          },
          "metadata": {},
          "execution_count": 23
        }
      ]
    },
    {
      "cell_type": "code",
      "metadata": {
        "id": "in8_w74tabFe"
      },
      "source": [
        "Xn=np.array([[1.0, 0.0, 0.0, 0.0, 17, 1, 0, 2, 0, 0, 1, 0, 0, 1, 1, 0, 3, 3, 3, 4, 25, 25]])"
      ],
      "execution_count": null,
      "outputs": []
    },
    {
      "cell_type": "code",
      "metadata": {
        "id": "-ui3E9vHs7ZB",
        "colab": {
          "base_uri": "https://localhost:8080/"
        },
        "outputId": "82ac9ac3-e244-401e-ca61-47038ab6c798"
      },
      "source": [
        "# Predict on your own data\n",
        "new_data=Xn\n",
        "print(\"Predicted grade:\",model.predict(new_data))"
      ],
      "execution_count": null,
      "outputs": [
        {
          "output_type": "stream",
          "name": "stdout",
          "text": [
            "Predicted grade: [[19.53227754]]\n"
          ]
        }
      ]
    }
  ]
}