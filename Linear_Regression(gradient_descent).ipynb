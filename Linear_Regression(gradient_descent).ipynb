{
  "nbformat": 4,
  "nbformat_minor": 0,
  "metadata": {
    "kernelspec": {
      "display_name": "Python 3",
      "language": "python",
      "name": "python3"
    },
    "language_info": {
      "codemirror_mode": {
        "name": "ipython",
        "version": 3
      },
      "file_extension": ".py",
      "mimetype": "text/x-python",
      "name": "python",
      "nbconvert_exporter": "python",
      "pygments_lexer": "ipython3",
      "version": "3.7.3"
    },
    "toc": {
      "base_numbering": 1,
      "nav_menu": {},
      "number_sections": true,
      "sideBar": true,
      "skip_h1_title": false,
      "title_cell": "Table of Contents",
      "title_sidebar": "Contents",
      "toc_cell": false,
      "toc_position": {},
      "toc_section_display": true,
      "toc_window_display": false
    },
    "colab": {
      "name": "Linear Regression(gradient descent).ipynb",
      "provenance": [],
      "collapsed_sections": []
    }
  },
  "cells": [
    {
      "cell_type": "markdown",
      "metadata": {
        "id": "2oDqyJAxs9D7"
      },
      "source": [
        "### Simple Linear Regression\n",
        "Linear regression is among the simplest regression methods. One of the main advantages of using it is ease of interpreting results. Simple linear regression is special case of regression where target feature is dependent on single variable, and then we find the best fitting line.<br>\n",
        "\n",
        "##### y = m*x + c <br>\n",
        "\n",
        "#### Dataset\n",
        "The dataset is available at __\"data/simple_linear_data.csv\"__ in the respective challenge's repo.<br><br>\n",
        "This is the modified version of the dataset 'Student Performance' provided by UCI Machine Learning repository.<br>\n",
        "Original dataset: https://archive.ics.uci.edu/ml/datasets/student+performance\n",
        "\n",
        "#### Features (X)\n",
        "- G2 - second year math grades (numeric: from 0 to 100)\n",
        "\n",
        "#### Target (y)\n",
        "- G3 - third year math grades (numeric: from 0 to 100, output target)\n",
        "\n",
        "#### Objective\n",
        "To gain understanding of single linear regression through implementing the model from scratch\n",
        "\n",
        "#### Tasks\n",
        "- Read the data from above mentioned dataset and define X and y as numpy array\n",
        "- Add column at position 0 with all values=1 (pandas.DataFrame.insert function)\n",
        "- Print rows from 40 to 55.\n",
        "- Print the shape and datatype of both X and y\n",
        "- Follow code cells to implement simple linear regression from scratch\n",
        "    - Write hypothesis function to predict values\n",
        "    - Write function for calculating mean_squared_error\n",
        "    - Write function to return gradients for given weights\n",
        "    - Perform gradient descent taking help of above functions\n",
        "\n",
        "#### Further Fun (will not be evaluated\n",
        "- Remove outliers, train again and see the difference in error.\n",
        "```python\n",
        "# Add this line before defining X and y\n",
        "data = data[(data['G3']!=0)|((data['G2']==0)&(data['G3']==0))]\n",
        "```\n",
        "- Replace \"*weights = np.random.rand(2)*\" line in gradient descent with below line, train again and visualize results.\n",
        "```python\n",
        "# Replace above line with following in gradient descent function\n",
        "weights = np.zeros(2,)\n",
        "```\n",
        "- Play with learning rate and max_iterations\n",
        "- Generalize the code for multivariate(multiple) linear regression\n",
        "\n",
        "#### Resources\n",
        "- Linear regression maths: https://www.youtube.com/watch?v=ZkjP5RJLQF4\n",
        "- Simple linear regression: https://www.youtube.com/watch?v=iAgYLRy7e20\n",
        "- Tutorial: https://machinelearningmastery.com/implement-simple-linear-regression-scratch-python\n"
      ]
    },
    {
      "cell_type": "code",
      "metadata": {
        "colab": {
          "base_uri": "https://localhost:8080/"
        },
        "id": "C2kbmHqazTkC",
        "outputId": "8e538214-1f48-407b-b870-188839f1f496"
      },
      "source": [
        "!wget \"https://raw.githubusercontent.com/ramahanisha-7/Datasets/main/Dataset%20File.csv\""
      ],
      "execution_count": 1,
      "outputs": [
        {
          "output_type": "stream",
          "name": "stdout",
          "text": [
            "--2021-09-17 16:52:33--  https://raw.githubusercontent.com/ramahanisha-7/Datasets/main/Dataset%20File.csv\n",
            "Resolving raw.githubusercontent.com (raw.githubusercontent.com)... 185.199.108.133, 185.199.109.133, 185.199.110.133, ...\n",
            "Connecting to raw.githubusercontent.com (raw.githubusercontent.com)|185.199.108.133|:443... connected.\n",
            "HTTP request sent, awaiting response... 200 OK\n",
            "Length: 2326 (2.3K) [text/plain]\n",
            "Saving to: ‘Dataset File.csv’\n",
            "\n",
            "\rDataset File.csv      0%[                    ]       0  --.-KB/s               \rDataset File.csv    100%[===================>]   2.27K  --.-KB/s    in 0s      \n",
            "\n",
            "2021-09-17 16:52:33 (62.9 MB/s) - ‘Dataset File.csv’ saved [2326/2326]\n",
            "\n"
          ]
        }
      ]
    },
    {
      "cell_type": "code",
      "metadata": {
        "id": "WWBPM1OGs9D-"
      },
      "source": [
        "import numpy as np\n",
        "import matplotlib.pyplot as plt\n",
        "import pandas as pd"
      ],
      "execution_count": 21,
      "outputs": []
    },
    {
      "cell_type": "code",
      "metadata": {
        "colab": {
          "base_uri": "https://localhost:8080/",
          "height": 204
        },
        "id": "SbE_4lb7s9EA",
        "outputId": "e4e7975f-9f7c-433e-deaf-bdd5768ea019"
      },
      "source": [
        "# Read the data from provided dir\n",
        "data = pd.read_csv(\"Dataset File.csv\")\n",
        "# print(data)\n",
        "data.head()"
      ],
      "execution_count": 22,
      "outputs": [
        {
          "output_type": "execute_result",
          "data": {
            "text/html": [
              "<div>\n",
              "<style scoped>\n",
              "    .dataframe tbody tr th:only-of-type {\n",
              "        vertical-align: middle;\n",
              "    }\n",
              "\n",
              "    .dataframe tbody tr th {\n",
              "        vertical-align: top;\n",
              "    }\n",
              "\n",
              "    .dataframe thead th {\n",
              "        text-align: right;\n",
              "    }\n",
              "</style>\n",
              "<table border=\"1\" class=\"dataframe\">\n",
              "  <thead>\n",
              "    <tr style=\"text-align: right;\">\n",
              "      <th></th>\n",
              "      <th>G2</th>\n",
              "      <th>G3</th>\n",
              "    </tr>\n",
              "  </thead>\n",
              "  <tbody>\n",
              "    <tr>\n",
              "      <th>0</th>\n",
              "      <td>30</td>\n",
              "      <td>30</td>\n",
              "    </tr>\n",
              "    <tr>\n",
              "      <th>1</th>\n",
              "      <td>25</td>\n",
              "      <td>30</td>\n",
              "    </tr>\n",
              "    <tr>\n",
              "      <th>2</th>\n",
              "      <td>40</td>\n",
              "      <td>50</td>\n",
              "    </tr>\n",
              "    <tr>\n",
              "      <th>3</th>\n",
              "      <td>70</td>\n",
              "      <td>75</td>\n",
              "    </tr>\n",
              "    <tr>\n",
              "      <th>4</th>\n",
              "      <td>50</td>\n",
              "      <td>50</td>\n",
              "    </tr>\n",
              "  </tbody>\n",
              "</table>\n",
              "</div>"
            ],
            "text/plain": [
              "   G2  G3\n",
              "0  30  30\n",
              "1  25  30\n",
              "2  40  50\n",
              "3  70  75\n",
              "4  50  50"
            ]
          },
          "metadata": {},
          "execution_count": 22
        }
      ]
    },
    {
      "cell_type": "code",
      "metadata": {
        "id": "4jiT5QxVs9EA"
      },
      "source": [
        "# Add column which has all 1s\n",
        "# The idea is that weight corresponding to this column is equal to intercept\n",
        "# This way it is efficient and easier to handle the bias/intercept term\n",
        "data.insert(loc=0, column='bias', value=1)\n"
      ],
      "execution_count": 23,
      "outputs": []
    },
    {
      "cell_type": "code",
      "metadata": {
        "colab": {
          "base_uri": "https://localhost:8080/"
        },
        "id": "oIWGZNr2s9EB",
        "outputId": "cbbf5344-3338-4a5b-92d7-310fa3ff5ecf"
      },
      "source": [
        "# Print the dataframe rows\n",
        "print(data[40:50])\n"
      ],
      "execution_count": 24,
      "outputs": [
        {
          "output_type": "stream",
          "name": "stdout",
          "text": [
            "    bias  G2   G3\n",
            "40     1  50   55\n",
            "41     1  60   60\n",
            "42     1  90   90\n",
            "43     1  40   55\n",
            "44     1  50   45\n",
            "45     1  40   30\n",
            "46     1  60   55\n",
            "47     1  95  100\n",
            "48     1  75   70\n",
            "49     1  35   35\n"
          ]
        }
      ]
    },
    {
      "cell_type": "code",
      "metadata": {
        "colab": {
          "base_uri": "https://localhost:8080/"
        },
        "id": "KuKQ8hpn-VKK",
        "outputId": "adc9e705-49b3-40ef-faa3-4bbd09c8cc35"
      },
      "source": [
        "df=np.array(data[:])\n",
        "print(df)"
      ],
      "execution_count": 25,
      "outputs": [
        {
          "output_type": "stream",
          "name": "stdout",
          "text": [
            "[[ 1 30 30]\n",
            " [ 1 25 30]\n",
            " [ 1 40 50]\n",
            " ...\n",
            " [ 1 40 35]\n",
            " [ 1 60 50]\n",
            " [ 1 45 45]]\n"
          ]
        }
      ]
    },
    {
      "cell_type": "code",
      "metadata": {
        "id": "LYX4UmsOs9EC"
      },
      "source": [
        "# Define X (input features) and y (output feature) \n",
        "X = df[:,:-1]\n",
        "y = df[:,-1:]\n",
        "# print(X,y)"
      ],
      "execution_count": 26,
      "outputs": []
    },
    {
      "cell_type": "code",
      "metadata": {
        "colab": {
          "base_uri": "https://localhost:8080/"
        },
        "id": "rtraq7Y2s9EC",
        "outputId": "d43638d9-4a40-42e5-e8e2-fac47af90fa8"
      },
      "source": [
        "X_shape = X.shape\n",
        "X_type  = type(X)\n",
        "y_shape = y.shape\n",
        "y_type  = type(y)\n",
        "print(f'X: Type-{X_type}, Shape-{X_shape}')\n",
        "print(f'y: Type-{y_type}, Shape-{y_shape}')"
      ],
      "execution_count": 27,
      "outputs": [
        {
          "output_type": "stream",
          "name": "stdout",
          "text": [
            "X: Type-<class 'numpy.ndarray'>, Shape-(395, 2)\n",
            "y: Type-<class 'numpy.ndarray'>, Shape-(395, 1)\n"
          ]
        }
      ]
    },
    {
      "cell_type": "markdown",
      "metadata": {
        "id": "WTO0Phcws9ED"
      },
      "source": [
        "__Expected output__:<br><br>\n",
        "X: Type-<class 'numpy.ndarray'>, Shape-(395,2)<br>\n",
        "y: Type-<class 'numpy.ndarray'>, Shape-(395,)"
      ]
    },
    {
      "cell_type": "markdown",
      "metadata": {
        "id": "UjNiuKl_s9ED"
      },
      "source": [
        "Let us visualize the relationship between X and y"
      ]
    },
    {
      "cell_type": "code",
      "metadata": {
        "colab": {
          "base_uri": "https://localhost:8080/",
          "height": 295
        },
        "id": "wv1cnhZys9EE",
        "outputId": "3bfeecf4-a8d3-44cd-c0b8-cb117485402c"
      },
      "source": [
        "# DO NOT EDIT THIS CODE CELL\n",
        "plt.scatter(X[:,1],y)\n",
        "plt.title('Relation between second year grades and third year grades')\n",
        "plt.xlabel('G2 (X - Second year grades)')\n",
        "plt.ylabel('G3 (Y - Third year grades)')\n",
        "plt.show()"
      ],
      "execution_count": 28,
      "outputs": [
        {
          "output_type": "display_data",
          "data": {
            "image/png": "[encoded data removed]",
            "text/plain": [
              "<Figure size 432x288 with 1 Axes>"
            ]
          },
          "metadata": {
            "needs_background": "light"
          }
        }
      ]
    },
    {
      "cell_type": "markdown",
      "metadata": {
        "id": "U9UxRmlBs9EE"
      },
      "source": [
        "##### Let us start implementing linear regression from scratch. Just follow code cells, see hints if required."
      ]
    },
    {
      "cell_type": "code",
      "metadata": {
        "id": "V4p36yo6s9EF"
      },
      "source": [
        "def predict(X, weights):\n",
        "    '''\n",
        "    weights   : array (2,1) w0 and w1\n",
        "    X         : array (m,2) x0 (intercept=1) and x1\n",
        "    \n",
        "    Returns predicted y using hyothesis linear function defined by given weights\n",
        "    '''\n",
        "    ### START CODE HERE ###\n",
        "\n",
        "    print(\"\\n\\n Weights: \", weights, \"\\n\\n\")\n",
        "\n",
        "    y_pred = np.dot(X,weights)\n",
        "\n",
        "    # print(\"\\n\\n y_pred: \", y_pred, \"\\n\\n\")\n",
        "    ### END CODE HERE ###\n",
        "    \n",
        "    assert (y_pred.shape==(X.shape[0],)), 'Wrong implementation of predict function. Check carefully'\n",
        "    \n",
        "    return y_pred"
      ],
      "execution_count": 29,
      "outputs": []
    },
    {
      "cell_type": "code",
      "metadata": {
        "id": "2C2IXQm4s9EF"
      },
      "source": [
        "def mean_squared_error(y_true, y_pred) : \n",
        "    '''\n",
        "    y_true : (m,1)\n",
        "    y_pred : (m,1)\n",
        "    \n",
        "    Return the mean squared error\n",
        "    '''\n",
        "    ### START CODE HERE ###\n",
        "    # loss = np.square(np.subtract(y_true,y_pred)).mean()\n",
        "    # n = len(X[:, 1])\n",
        "    loss = ((y_true - y_pred)**2).mean()\n",
        "\n",
        "    print(\"\\n\\n loss: \", loss, \"\\n\\n\")\n",
        "    ### END CODE HERE ###\n",
        "    \n",
        "    return loss"
      ],
      "execution_count": 30,
      "outputs": []
    },
    {
      "cell_type": "code",
      "metadata": {
        "id": "nMgZ6X2cs9EG"
      },
      "source": [
        "def gradient(X, y_true, y_pred):\n",
        "    '''\n",
        "    X      : array (m,2)\n",
        "    y_true : array (m,1)\n",
        "    y_pred : array (m,1)\n",
        "    \n",
        "    Returns a numpy array with gradients. Shape (2,1)\n",
        "    '''\n",
        "    # Initialize the gradient vector for w0 (intercept/bias) and w1 respectively\n",
        "    grad = np.zeros(2,)\n",
        "    \n",
        "    ### START CODE HERE ###\n",
        "    # n = len(X[:, 1])\n",
        "    grad[0] = (y_true - y_pred).mean()\n",
        "\n",
        "    # print(\"\\n\\n y_pred_shape: \", y_pred.shape, \"\\n\\n\")\n",
        "    # print(\"\\n\\n y_shape: \", y_true.shape, \"\\n\\n\")\n",
        "    # print(np.subtract(y_pred, y_true[:, 0]).shape)\n",
        "\n",
        "    grad[1] = (X[:, 0] * (y_pred - y_true[:, 0])).mean()\n",
        "\n",
        "    print(\"\\n\\n Grad[0]: \", grad[0], \"\\n\\n\")\n",
        "    print(\"\\n\\n Grad[1]: \", grad[1], \"\\n\\n\")\n",
        "    \n",
        "    ### END CODE HERE ###\n",
        "    \n",
        "    return grad"
      ],
      "execution_count": 42,
      "outputs": []
    },
    {
      "cell_type": "code",
      "metadata": {
        "id": "jYo4_X2ws9EH"
      },
      "source": [
        "def gradient_descent(X, y, learning_rate=0.01, max_iterations=10):\n",
        "    '''\n",
        "    X              : Array (m,2)\n",
        "    y              : Array (m,1)\n",
        "    learning_rate  : Learning rate\n",
        "    max_iterations : Maximum iteratons\n",
        "    \n",
        "    Returns : weights vector (2,1)\n",
        "            : losses (List)\n",
        "    '''\n",
        "    # Initialise weights vector of random values of size (2,1)\n",
        "    weights = np.random.rand(2)\n",
        "    # Initialize a list to record all the losses \n",
        "    losses  = []\n",
        "    \n",
        "    ### START CODE HERE ###\n",
        "\n",
        "    for i in range(max_iterations):\n",
        "\n",
        "      y_pred = predict(X, weights)\n",
        "\n",
        "      losses.append(mean_squared_error(y, y_pred))\n",
        "\n",
        "      weights -= learning_rate * gradient(X,y,y_pred)\n",
        "\n",
        "\n",
        "    ### END CODE HERE ###\n",
        "    \n",
        "    return weights, losses"
      ],
      "execution_count": 43,
      "outputs": []
    },
    {
      "cell_type": "markdown",
      "metadata": {
        "id": "G_yvxbgcs9EH"
      },
      "source": [
        "##### Congratulations! You have implemented linear regression from scratch. Let's see this in action."
      ]
    },
    {
      "cell_type": "code",
      "metadata": {
        "id": "VuDP1qTvs9EI",
        "colab": {
          "base_uri": "https://localhost:8080/"
        },
        "outputId": "0f8f33ca-8013-4e5b-a712-ab703c51058a"
      },
      "source": [
        "# Perform gradient descent\n",
        "optimal_weights, losses = gradient_descent(X, y)"
      ],
      "execution_count": 44,
      "outputs": [
        {
          "output_type": "stream",
          "name": "stdout",
          "text": [
            "\n",
            "\n",
            " Weights:  [0.39408007 0.38725228] \n",
            "\n",
            "\n",
            "\n",
            "\n",
            " loss:  1533.4160038241073 \n",
            "\n",
            "\n",
            "\n",
            "\n",
            " Grad[0]:  30.936911985157018 \n",
            "\n",
            "\n",
            "\n",
            "\n",
            " Grad[1]:  -30.936911985157018 \n",
            "\n",
            "\n",
            "\n",
            "\n",
            " Weights:  [0.08471095 0.69662139] \n",
            "\n",
            "\n",
            "\n",
            "\n",
            " loss:  909.9439824852847 \n",
            "\n",
            "\n",
            "\n",
            "\n",
            " Grad[0]:  14.673494836504215 \n",
            "\n",
            "\n",
            "\n",
            "\n",
            " Grad[1]:  -14.673494836504219 \n",
            "\n",
            "\n",
            "\n",
            "\n",
            " Weights:  [-0.062024    0.84335634] \n",
            "\n",
            "\n",
            "\n",
            "\n",
            " loss:  822.7977813067628 \n",
            "\n",
            "\n",
            "\n",
            "\n",
            " Grad[0]:  6.959694323086236 \n",
            "\n",
            "\n",
            "\n",
            "\n",
            " Grad[1]:  -6.959694323086237 \n",
            "\n",
            "\n",
            "\n",
            "\n",
            " Weights:  [-0.13162094  0.91295329] \n",
            "\n",
            "\n",
            "\n",
            "\n",
            " loss:  828.3845308057142 \n",
            "\n",
            "\n",
            "\n",
            "\n",
            " Grad[0]:  3.3010094466587496 \n",
            "\n",
            "\n",
            "\n",
            "\n",
            " Grad[1]:  -3.30100944665875 \n",
            "\n",
            "\n",
            "\n",
            "\n",
            " Weights:  [-0.16463104  0.94596338] \n",
            "\n",
            "\n",
            "\n",
            "\n",
            " loss:  841.5897803220463 \n",
            "\n",
            "\n",
            "\n",
            "\n",
            " Grad[0]:  1.5656813160291543 \n",
            "\n",
            "\n",
            "\n",
            "\n",
            " Grad[1]:  -1.5656813160291538 \n",
            "\n",
            "\n",
            "\n",
            "\n",
            " Weights:  [-0.18028785  0.96162019] \n",
            "\n",
            "\n",
            "\n",
            "\n",
            " loss:  850.2276737207943 \n",
            "\n",
            "\n",
            "\n",
            "\n",
            " Grad[0]:  0.7426085938178791 \n",
            "\n",
            "\n",
            "\n",
            "\n",
            " Grad[1]:  -0.7426085938178789 \n",
            "\n",
            "\n",
            "\n",
            "\n",
            " Weights:  [-0.18771394  0.96904628] \n",
            "\n",
            "\n",
            "\n",
            "\n",
            " loss:  854.8588576122357 \n",
            "\n",
            "\n",
            "\n",
            "\n",
            " Grad[0]:  0.3522220760804511 \n",
            "\n",
            "\n",
            "\n",
            "\n",
            " Grad[1]:  -0.35222207608045086 \n",
            "\n",
            "\n",
            "\n",
            "\n",
            " Weights:  [-0.19123616  0.9725685 ] \n",
            "\n",
            "\n",
            "\n",
            "\n",
            " loss:  857.1756211432016 \n",
            "\n",
            "\n",
            "\n",
            "\n",
            " Grad[0]:  0.1670602682371444 \n",
            "\n",
            "\n",
            "\n",
            "\n",
            " Grad[1]:  -0.16706026823714423 \n",
            "\n",
            "\n",
            "\n",
            "\n",
            " Weights:  [-0.19290676  0.9742391 ] \n",
            "\n",
            "\n",
            "\n",
            "\n",
            " loss:  858.3015060390586 \n",
            "\n",
            "\n",
            "\n",
            "\n",
            " Grad[0]:  0.07923731963096059 \n",
            "\n",
            "\n",
            "\n",
            "\n",
            " Grad[1]:  -0.07923731963096058 \n",
            "\n",
            "\n",
            "\n",
            "\n",
            " Weights:  [-0.19369913  0.97503148] \n",
            "\n",
            "\n",
            "\n",
            "\n",
            " loss:  858.8415994598446 \n",
            "\n",
            "\n",
            "\n",
            "\n",
            " Grad[0]:  0.03758256160217815 \n",
            "\n",
            "\n",
            "\n",
            "\n",
            " Grad[1]:  -0.037582561602178 \n",
            "\n",
            "\n"
          ]
        }
      ]
    },
    {
      "cell_type": "code",
      "metadata": {
        "id": "t1nTy8zDs9EJ",
        "colab": {
          "base_uri": "https://localhost:8080/"
        },
        "outputId": "e01fc5db-eb51-4ca5-a4a4-aa39da09f7ad"
      },
      "source": [
        "# DO NOT CHANGE THE FOLLOWING CODE CELLS\n",
        "# Print final loss\n",
        "print(\"Mean squared error:\", losses[-1])"
      ],
      "execution_count": 45,
      "outputs": [
        {
          "output_type": "stream",
          "name": "stdout",
          "text": [
            "Mean squared error: 858.8415994598446\n"
          ]
        }
      ]
    },
    {
      "cell_type": "code",
      "metadata": {
        "id": "fst0uIKls9EJ",
        "colab": {
          "base_uri": "https://localhost:8080/",
          "height": 295
        },
        "outputId": "3f9f4bbf-926b-441e-9ac9-b95205ae3a6e"
      },
      "source": [
        "# Plot the loss curve\n",
        "plt.plot([i for i in range(len(losses))], losses)\n",
        "plt.title(\"Loss curve\")\n",
        "plt.xlabel(\"Iteration num\")\n",
        "plt.ylabel(\"Loss\")\n",
        "plt.show()"
      ],
      "execution_count": 46,
      "outputs": [
        {
          "output_type": "display_data",
          "data": {
            "image/png": "[encoded data removed]",
            "text/plain": [
              "<Figure size 432x288 with 1 Axes>"
            ]
          },
          "metadata": {
            "needs_background": "light"
          }
        }
      ]
    },
    {
      "cell_type": "code",
      "metadata": {
        "colab": {
          "base_uri": "https://localhost:8080/"
        },
        "id": "kmXAZIbnbSQ0",
        "outputId": "9dc06ab7-b690-4283-9d9e-3daa8b56d4d1"
      },
      "source": [
        "print(optimal_weights)"
      ],
      "execution_count": 47,
      "outputs": [
        {
          "output_type": "stream",
          "name": "stdout",
          "text": [
            "[-0.19407496  0.9754073 ]\n"
          ]
        }
      ]
    },
    {
      "cell_type": "code",
      "metadata": {
        "id": "tyvdar7Is9EK",
        "colab": {
          "base_uri": "https://localhost:8080/"
        },
        "outputId": "cd7c0580-8fd0-4d72-b2bf-0465fa45363c"
      },
      "source": [
        "# Make predictions using trained weights\n",
        "y_pred = predict(X, optimal_weights)\n",
        "print(y_pred)"
      ],
      "execution_count": 48,
      "outputs": [
        {
          "output_type": "stream",
          "name": "stdout",
          "text": [
            "\n",
            "\n",
            " Weights:  [-0.19407496  0.9754073 ] \n",
            "\n",
            "\n",
            "[29.06814411 24.1911076  38.82221713 68.0844362  48.57629015 72.96147271\n",
            " 58.33036318 24.1911076  87.59258225 72.96147271 38.82221713 58.33036318\n",
            " 68.0844362  48.57629015 77.83850922 68.0844362  68.0844362  48.57629015\n",
            " 24.1911076  48.57629015 68.0844362  72.96147271 72.96147271 63.20739969\n",
            " 43.69925364 43.69925364 58.33036318 77.83850922 53.45332667 58.33036318\n",
            " 53.45332667 77.83850922 77.83850922 48.57629015 68.0844362  33.94518062\n",
            " 77.83850922 77.83850922 58.33036318 63.20739969 48.57629015 58.33036318\n",
            " 87.59258225 38.82221713 48.57629015 38.82221713 58.33036318 92.46961876\n",
            " 72.96147271 33.94518062 63.20739969 63.20739969 53.45332667 48.57629015\n",
            " 63.20739969 43.69925364 72.96147271 72.96147271 48.57629015 77.83850922\n",
            " 53.45332667 38.82221713 48.57629015 43.69925364 48.57629015 72.96147271\n",
            " 63.20739969 33.94518062 43.69925364 77.83850922 72.96147271 48.57629015\n",
            " 29.06814411 58.33036318 58.33036318 43.69925364 53.45332667 53.45332667\n",
            " 38.82221713 24.1911076  58.33036318 48.57629015 29.06814411 72.96147271\n",
            " 48.57629015 43.69925364 33.94518062 68.0844362  48.57629015 29.06814411\n",
            " 33.94518062 82.71554573 29.06814411 48.57629015 63.20739969 48.57629015\n",
            " 72.96147271 43.69925364 68.0844362  43.69925364 33.94518062 82.71554573\n",
            " 63.20739969 29.06814411 87.59258225 53.45332667 38.82221713 87.59258225\n",
            " 63.20739969 72.96147271 92.46961876 48.57629015 63.20739969 92.46961876\n",
            " 43.69925364 72.96147271 63.20739969 68.0844362  33.94518062 63.20739969\n",
            " 72.96147271 68.0844362  63.20739969 53.45332667 33.94518062 63.20739969\n",
            " 48.57629015 38.82221713 19.31407109 87.59258225 -0.19407496 -0.19407496\n",
            " 63.20739969 53.45332667 -0.19407496 -0.19407496 -0.19407496 -0.19407496\n",
            " 58.33036318 77.83850922 43.69925364 43.69925364 53.45332667 68.0844362\n",
            " -0.19407496 53.45332667 33.94518062 53.45332667 29.06814411 43.69925364\n",
            " 24.1911076  63.20739969 48.57629015 -0.19407496 53.45332667 38.82221713\n",
            " 58.33036318 38.82221713 72.96147271 58.33036318 29.06814411 43.69925364\n",
            " -0.19407496 48.57629015 38.82221713 53.45332667 48.57629015 72.96147271\n",
            " 33.94518062 68.0844362  24.1911076  72.96147271 53.45332667 33.94518062\n",
            " 53.45332667 43.69925364 63.20739969 24.1911076  38.82221713 48.57629015\n",
            " 38.82221713 63.20739969 82.71554573 43.69925364 63.20739969 58.33036318\n",
            " 58.33036318 72.96147271 33.94518062 43.69925364 58.33036318 38.82221713\n",
            " 38.82221713 43.69925364 68.0844362  72.96147271 72.96147271 43.69925364\n",
            " 87.59258225 43.69925364 77.83850922 48.57629015 43.69925364 29.06814411\n",
            " 48.57629015 43.69925364 33.94518062 58.33036318 43.69925364 33.94518062\n",
            " 38.82221713 58.33036318 63.20739969 33.94518062 48.57629015 72.96147271\n",
            " 29.06814411 29.06814411 33.94518062 48.57629015 29.06814411 24.1911076\n",
            " 77.83850922 63.20739969 63.20739969 38.82221713 72.96147271 53.45332667\n",
            " 38.82221713 48.57629015 63.20739969 53.45332667 43.69925364 63.20739969\n",
            " 33.94518062 43.69925364 63.20739969 58.33036318 53.45332667 33.94518062\n",
            " 58.33036318 53.45332667 -0.19407496 58.33036318 -0.19407496 87.59258225\n",
            " 58.33036318 38.82221713 24.1911076  72.96147271 38.82221713 48.57629015\n",
            " 43.69925364 43.69925364 58.33036318 43.69925364 58.33036318 53.45332667\n",
            " 68.0844362  43.69925364 87.59258225 38.82221713 58.33036318 43.69925364\n",
            " 48.57629015 82.71554573 43.69925364 48.57629015 43.69925364 -0.19407496\n",
            " 43.69925364 68.0844362  53.45332667 68.0844362  48.57629015 58.33036318\n",
            " 43.69925364 43.69925364 38.82221713 53.45332667 38.82221713 43.69925364\n",
            " 58.33036318 43.69925364 43.69925364 48.57629015 87.59258225 58.33036318\n",
            " 68.0844362  63.20739969 53.45332667 72.96147271 58.33036318 87.59258225\n",
            " 63.20739969 58.33036318 43.69925364 38.82221713 63.20739969 72.96147271\n",
            " 48.57629015 53.45332667 58.33036318 82.71554573 68.0844362  58.33036318\n",
            " 87.59258225 43.69925364 58.33036318 48.57629015 43.69925364 58.33036318\n",
            " 53.45332667 48.57629015 63.20739969 53.45332667 38.82221713 48.57629015\n",
            " 53.45332667 53.45332667 63.20739969 43.69925364 53.45332667 68.0844362\n",
            " 72.96147271 58.33036318 72.96147271 48.57629015 43.69925364 68.0844362\n",
            " 38.82221713 68.0844362  -0.19407496 38.82221713 43.69925364 72.96147271\n",
            " 63.20739969 38.82221713 72.96147271 48.57629015 58.33036318 48.57629015\n",
            " 72.96147271 38.82221713 48.57629015 63.20739969 72.96147271 48.57629015\n",
            " 72.96147271 63.20739969 33.94518062 63.20739969 33.94518062 38.82221713\n",
            " 53.45332667 43.69925364 63.20739969 58.33036318 48.57629015 77.83850922\n",
            " 63.20739969 58.33036318 53.45332667 72.96147271 53.45332667 48.57629015\n",
            " 63.20739969 29.06814411 48.57629015 58.33036318 33.94518062 58.33036318\n",
            " 53.45332667 24.1911076  87.59258225 38.82221713 68.0844362  43.69925364\n",
            " 72.96147271 48.57629015 68.0844362  29.06814411 53.45332667 24.1911076\n",
            " 24.1911076  43.69925364 24.1911076  24.1911076  43.69925364 24.1911076\n",
            " 43.69925364 77.83850922 38.82221713 58.33036318 43.69925364]\n"
          ]
        }
      ]
    },
    {
      "cell_type": "code",
      "metadata": {
        "id": "EdwA46pYs9EK",
        "colab": {
          "base_uri": "https://localhost:8080/",
          "height": 295
        },
        "outputId": "16e10cc5-a77b-43e9-8719-e230e6a2327c"
      },
      "source": [
        "# Visualize the results by plotting it\n",
        "plt.scatter(X[:,1], y, c='r', label='Actual scores')\n",
        "plt.plot(X[:,1], y_pred, c='g', label='Fitted line | predictions')\n",
        "plt.legend()\n",
        "plt.title(\"Linear regression fitted line\")\n",
        "plt.xlabel(\"Second year grades\")\n",
        "plt.ylabel(\"Third year grades\")\n",
        "plt.show()"
      ],
      "execution_count": 49,
      "outputs": [
        {
          "output_type": "display_data",
          "data": {
            "image/png": "[encoded data removed]",
            "text/plain": [
              "<Figure size 432x288 with 1 Axes>"
            ]
          },
          "metadata": {
            "needs_background": "light"
          }
        }
      ]
    },
    {
      "cell_type": "code",
      "metadata": {
        "id": "0XerFpCOiLN8"
      },
      "source": [
        ""
      ],
      "execution_count": null,
      "outputs": []
    }
  ]
}