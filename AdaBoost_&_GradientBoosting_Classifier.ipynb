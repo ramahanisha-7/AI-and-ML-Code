{
  "nbformat": 4,
  "nbformat_minor": 0,
  "metadata": {
    "colab": {
      "name": "AdaBoost & GradientBoosting Classifier.ipynb",
      "provenance": [],
      "collapsed_sections": []
    },
    "kernelspec": {
      "name": "python3",
      "display_name": "Python 3"
    },
    "language_info": {
      "name": "python"
    }
  },
  "cells": [
    {
      "cell_type": "code",
      "metadata": {
        "id": "F-9VmrH9AfAw"
      },
      "source": [
        "import matplotlib.pyplot as plt\n",
        "import os\n",
        "from scipy.io import wavfile\n",
        "from scipy import signal\n",
        "import numpy as np\n",
        "import librosa\n",
        "import librosa.display\n",
        "import wave\n",
        "import random as rn\n",
        "from sklearn.ensemble import AdaBoostClassifier, GradientBoostingClassifier\n",
        "from sklearn.model_selection import train_test_split\n",
        "from sklearn.metrics import confusion_matrix\n",
        "import seaborn as sns\n",
        "\n",
        "%matplotlib inline"
      ],
      "execution_count": null,
      "outputs": []
    },
    {
      "cell_type": "code",
      "metadata": {
        "colab": {
          "base_uri": "https://localhost:8080/"
        },
        "id": "LQ0VO6nybwCs",
        "outputId": "c1c798da-db15-4b88-8a1b-22d4f8b92948"
      },
      "source": [
        "from google.colab import drive\n",
        "drive.mount(\"/content/gdrive\",)"
      ],
      "execution_count": null,
      "outputs": [
        {
          "output_type": "stream",
          "name": "stdout",
          "text": [
            "Drive already mounted at /content/gdrive; to attempt to forcibly remount, call drive.mount(\"/content/gdrive\", force_remount=True).\n"
          ]
        }
      ]
    },
    {
      "cell_type": "code",
      "metadata": {
        "colab": {
          "base_uri": "https://localhost:8080/"
        },
        "id": "DGElDvKXY5qs",
        "outputId": "6a167075-2fef-4b41-c0e5-4a264ccf141d"
      },
      "source": [
        "import os\n",
        "import sys\n",
        "os.chdir('/content/gdrive/MyDrive/datasets/recordings')\n",
        "!pwd\n",
        "ROOT_DIR = os.path.abspath(\"\")\n",
        "print (ROOT_DIR)\n",
        "sys.path.append(ROOT_DIR)"
      ],
      "execution_count": null,
      "outputs": [
        {
          "output_type": "stream",
          "name": "stdout",
          "text": [
            "/content/gdrive/MyDrive/datasets/recordings\n",
            "/content/gdrive/MyDrive/datasets/recordings\n"
          ]
        }
      ]
    },
    {
      "cell_type": "code",
      "metadata": {
        "id": "i-g18gX5U81N"
      },
      "source": [
        "filenames = []\n",
        "\n",
        "for flist in os.listdir(ROOT_DIR):\n",
        "  filenames.append(flist)\n",
        "rn.shuffle(filenames)"
      ],
      "execution_count": null,
      "outputs": []
    },
    {
      "cell_type": "code",
      "metadata": {
        "id": "xV9qHur0cTis"
      },
      "source": [
        "test_speaker = 'theo'\n",
        "train_mfccs = []\n",
        "train_y = []\n",
        "test_mfccs = []\n",
        "test_y = []\n",
        "pad2d = lambda a, i: a[:, 0: i] if a.shape[1] > i else np.hstack((a, np.zeros((a.shape[0], i-a.shape[1]))))"
      ],
      "execution_count": null,
      "outputs": []
    },
    {
      "cell_type": "code",
      "metadata": {
        "id": "9UmfNUpLdOQl"
      },
      "source": [
        "for i in range(len(filenames)):\n",
        "  struct = filenames[i].split('_')\n",
        "  digit = struct[0]\n",
        "  speaker = struct[1]\n",
        "  wav, sr = librosa.load(os.path.join(ROOT_DIR, filenames[i]))\n",
        "  mfcc = librosa.feature.mfcc(wav)\n",
        "  padded_mfcc = pad2d(mfcc, 40)\n",
        "  if speaker == test_speaker:\n",
        "    test_mfccs.append(padded_mfcc.flatten())\n",
        "    test_y.append(int(digit))\n",
        "  else:\n",
        "    train_mfccs.append(padded_mfcc.flatten())\n",
        "    train_y.append(int(digit))"
      ],
      "execution_count": null,
      "outputs": []
    },
    {
      "cell_type": "code",
      "metadata": {
        "id": "RrNCPwN8eSis"
      },
      "source": [
        "train_mfccs = np.array(train_mfccs)\n",
        "test_mfccs = np.array(test_mfccs)\n",
        "\n",
        "train_X_ex = np.expand_dims(train_mfccs, -1)\n",
        "test_X_ex = np.expand_dims(test_mfccs, -1)\n",
        "\n",
        "train_X_ex = np.reshape(train_X_ex, (2500, 800))\n",
        "test_X_ex = np.reshape(test_X_ex, (500, 800))\n",
        "\n",
        "train_y = np.array(train_y)\n",
        "test_y = np.array(test_y)"
      ],
      "execution_count": null,
      "outputs": []
    },
    {
      "cell_type": "code",
      "metadata": {
        "colab": {
          "base_uri": "https://localhost:8080/"
        },
        "id": "whI7HDjRxa5x",
        "outputId": "ff092a45-e3e9-4d2a-b90f-a9d0b7be1b55"
      },
      "source": [
        "from sklearn.ensemble import AdaBoostClassifier\n",
        "clf = AdaBoostClassifier(n_estimators = 100, learning_rate = 1.0, random_state = 42)\n",
        "clf.fit(train_X_ex, train_y)\n",
        "clf.score(test_X_ex, test_y)"
      ],
      "execution_count": null,
      "outputs": [
        {
          "output_type": "execute_result",
          "data": {
            "text/plain": [
              "0.42"
            ]
          },
          "metadata": {},
          "execution_count": 33
        }
      ]
    },
    {
      "cell_type": "code",
      "metadata": {
        "colab": {
          "base_uri": "https://localhost:8080/"
        },
        "id": "Ge6CccnKxgtZ",
        "outputId": "e2f83de5-0403-4ab2-b47d-a45288977cc7"
      },
      "source": [
        "from sklearn.ensemble import GradientBoostingClassifier\n",
        "g_clf = GradientBoostingClassifier(n_estimators = 100, learning_rate=0.1, max_depth=1, random_state = 42)\n",
        "g_clf.fit(train_X_ex, train_y)\n",
        "g_clf.score(test_X_ex, test_y)"
      ],
      "execution_count": null,
      "outputs": [
        {
          "output_type": "execute_result",
          "data": {
            "text/plain": [
              "0.73"
            ]
          },
          "metadata": {},
          "execution_count": 30
        }
      ]
    }
  ]
}