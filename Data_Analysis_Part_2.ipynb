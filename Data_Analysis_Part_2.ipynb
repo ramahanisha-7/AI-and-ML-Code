{
  "nbformat": 4,
  "nbformat_minor": 0,
  "metadata": {
    "colab": {
      "name": "Data Analysis Part-2.ipynb",
      "provenance": [],
      "collapsed_sections": [
        "UO1KzdCkcbvI"
      ]
    },
    "kernelspec": {
      "name": "python3",
      "display_name": "Python 3"
    },
    "language_info": {
      "name": "python"
    }
  },
  "cells": [
    {
      "cell_type": "markdown",
      "metadata": {
        "id": "zmvdgPdiTbFQ"
      },
      "source": [
        "# Red Wine Dataset "
      ]
    },
    {
      "cell_type": "code",
      "metadata": {
        "colab": {
          "base_uri": "https://localhost:8080/"
        },
        "id": "5Rp53gPZTTHu",
        "outputId": "14021884-7358-4501-af8b-6588fd008eee"
      },
      "source": [
        "!wget https://archive.ics.uci.edu/ml/machine-learning-databases/wine-quality/winequality-red.csv"
      ],
      "execution_count": null,
      "outputs": [
        {
          "output_type": "stream",
          "name": "stdout",
          "text": [
            "--2021-09-04 15:46:25--  https://archive.ics.uci.edu/ml/machine-learning-databases/wine-quality/winequality-red.csv\n",
            "Resolving archive.ics.uci.edu (archive.ics.uci.edu)... 128.195.10.252\n",
            "Connecting to archive.ics.uci.edu (archive.ics.uci.edu)|128.195.10.252|:443... connected.\n",
            "HTTP request sent, awaiting response... 200 OK\n",
            "Length: 84199 (82K) [application/x-httpd-php]\n",
            "Saving to: ‘winequality-red.csv’\n",
            "\n",
            "\rwinequality-red.csv   0%[                    ]       0  --.-KB/s               \rwinequality-red.csv 100%[===================>]  82.23K  --.-KB/s    in 0.02s   \n",
            "\n",
            "2021-09-04 15:46:25 (3.67 MB/s) - ‘winequality-red.csv’ saved [84199/84199]\n",
            "\n"
          ]
        }
      ]
    },
    {
      "cell_type": "code",
      "metadata": {
        "id": "PreVluUVTxqJ"
      },
      "source": [
        "#importing libraries\n",
        "import pandas as pd\n",
        "import numpy as np\n",
        "import matplotlib.pyplot as plt\n"
      ],
      "execution_count": null,
      "outputs": []
    },
    {
      "cell_type": "code",
      "metadata": {
        "colab": {
          "base_uri": "https://localhost:8080/"
        },
        "id": "bLUUEAgjTVTY",
        "outputId": "14265dc5-9cfe-4a5e-cbd7-3e43743b26b2"
      },
      "source": [
        "dataset = pd.read_csv(\"winequality-red.csv\",sep=\";\")\n",
        "print(dataset)"
      ],
      "execution_count": null,
      "outputs": [
        {
          "output_type": "stream",
          "name": "stdout",
          "text": [
            "      fixed acidity  volatile acidity  citric acid  ...  sulphates  alcohol  quality\n",
            "0               7.4             0.700         0.00  ...       0.56      9.4        5\n",
            "1               7.8             0.880         0.00  ...       0.68      9.8        5\n",
            "2               7.8             0.760         0.04  ...       0.65      9.8        5\n",
            "3              11.2             0.280         0.56  ...       0.58      9.8        6\n",
            "4               7.4             0.700         0.00  ...       0.56      9.4        5\n",
            "...             ...               ...          ...  ...        ...      ...      ...\n",
            "1594            6.2             0.600         0.08  ...       0.58     10.5        5\n",
            "1595            5.9             0.550         0.10  ...       0.76     11.2        6\n",
            "1596            6.3             0.510         0.13  ...       0.75     11.0        6\n",
            "1597            5.9             0.645         0.12  ...       0.71     10.2        5\n",
            "1598            6.0             0.310         0.47  ...       0.66     11.0        6\n",
            "\n",
            "[1599 rows x 12 columns]\n"
          ]
        }
      ]
    },
    {
      "cell_type": "code",
      "metadata": {
        "colab": {
          "base_uri": "https://localhost:8080/"
        },
        "id": "aRbD5cq4TsPH",
        "outputId": "c34bc420-6728-4865-b56e-94ed1b3e7989"
      },
      "source": [
        "#Reading the dataset and storing it as 2d numpy matrix\n",
        "XY=np.array(dataset,dtype=float)\n",
        "print(XY)"
      ],
      "execution_count": null,
      "outputs": [
        {
          "output_type": "stream",
          "name": "stdout",
          "text": [
            "[[ 7.4    0.7    0.    ...  0.56   9.4    5.   ]\n",
            " [ 7.8    0.88   0.    ...  0.68   9.8    5.   ]\n",
            " [ 7.8    0.76   0.04  ...  0.65   9.8    5.   ]\n",
            " ...\n",
            " [ 6.3    0.51   0.13  ...  0.75  11.     6.   ]\n",
            " [ 5.9    0.645  0.12  ...  0.71  10.2    5.   ]\n",
            " [ 6.     0.31   0.47  ...  0.66  11.     6.   ]]\n"
          ]
        }
      ]
    },
    {
      "cell_type": "code",
      "metadata": {
        "colab": {
          "base_uri": "https://localhost:8080/"
        },
        "id": "5vneOmW2UNFy",
        "outputId": "91eb93c8-1b79-4d5c-fabe-683ed4e57089"
      },
      "source": [
        "#Apply the following matrix operations (independently to the source matrix of size 1599*12) to the dataset matrix (Use built in functions using different libraries)\n",
        "#print the shape of the matrix\n",
        "print(\"The shape of the matrix is: \",np.shape(XY))"
      ],
      "execution_count": null,
      "outputs": [
        {
          "output_type": "stream",
          "name": "stdout",
          "text": [
            "The shape of the matrix is:  (1599, 12)\n"
          ]
        }
      ]
    },
    {
      "cell_type": "code",
      "metadata": {
        "colab": {
          "base_uri": "https://localhost:8080/"
        },
        "id": "RZKlLOxGUppa",
        "outputId": "7d25d00e-6bb1-46ab-84a5-bb851e3398ff"
      },
      "source": [
        "#Flatten the matrix\n",
        "XY.flatten()"
      ],
      "execution_count": null,
      "outputs": [
        {
          "output_type": "execute_result",
          "data": {
            "text/plain": [
              "array([ 7.4 ,  0.7 ,  0.  , ...,  0.66, 11.  ,  6.  ])"
            ]
          },
          "metadata": {},
          "execution_count": 7
        }
      ]
    },
    {
      "cell_type": "code",
      "metadata": {
        "colab": {
          "base_uri": "https://localhost:8080/"
        },
        "id": "XwdlMJxlVHDI",
        "outputId": "a100ed0d-b791-4261-c7b3-335068d34bff"
      },
      "source": [
        "#slice the matix Separate the features (1599*11 matrix: all columns except the last one) of the dataset and target variable (1599*1 matrix: last column) i.e. quality of wine.\n",
        "features=XY[:,:-1]\n",
        "wine_quality=XY[:,-1:]\n",
        "print(\"Shape of the features: \",features.shape)\n",
        "print(\"Shape of the quality of wine: \",wine_quality.shape)"
      ],
      "execution_count": null,
      "outputs": [
        {
          "output_type": "stream",
          "name": "stdout",
          "text": [
            "Shape of the features:  (1599, 11)\n",
            "Shape of the quality of wine:  (1599, 1)\n"
          ]
        }
      ]
    },
    {
      "cell_type": "code",
      "metadata": {
        "colab": {
          "base_uri": "https://localhost:8080/"
        },
        "id": "IjOk6NRfVnRn",
        "outputId": "e2ad0568-3863-4e49-e867-045a162c23ca"
      },
      "source": [
        "#slice the matrix(row slicilng):Divide the matrix XY into two equal sections of size 800*12 each.\n",
        "half1=XY[0:800]\n",
        "half2=XY[799:]\n",
        "print(\"First half of XY: \",half1.shape)\n",
        "print(\"Second half of XY\",half2.shape)"
      ],
      "execution_count": null,
      "outputs": [
        {
          "output_type": "stream",
          "name": "stdout",
          "text": [
            "First half of XY:  (800, 12)\n",
            "Second half of XY (800, 12)\n"
          ]
        }
      ]
    },
    {
      "cell_type": "code",
      "metadata": {
        "colab": {
          "base_uri": "https://localhost:8080/"
        },
        "id": "CXvpIA-FWCqW",
        "outputId": "4b641111-111f-4b88-f9ab-1202933aa882"
      },
      "source": [
        "#Shuffle the rows of the matrix XY\n",
        "np.take(XY,np.random.permutation(XY.shape[0]),axis=0,out=XY)"
      ],
      "execution_count": null,
      "outputs": [
        {
          "output_type": "execute_result",
          "data": {
            "text/plain": [
              "array([[ 7.9  ,  0.35 ,  0.46 , ...,  0.86 , 12.8  ,  8.   ],\n",
              "       [ 6.9  ,  0.54 ,  0.3  , ...,  1.18 , 10.5  ,  6.   ],\n",
              "       [ 7.2  ,  0.66 ,  0.03 , ...,  0.57 ,  9.7  ,  5.   ],\n",
              "       ...,\n",
              "       [ 7.8  ,  0.63 ,  0.48 , ...,  0.62 ,  9.5  ,  5.   ],\n",
              "       [ 7.7  ,  0.705,  0.1  , ...,  0.49 ,  9.7  ,  5.   ],\n",
              "       [ 7.2  ,  0.38 ,  0.38 , ...,  0.72 , 12.9  ,  7.   ]])"
            ]
          },
          "metadata": {},
          "execution_count": 10
        }
      ]
    },
    {
      "cell_type": "code",
      "metadata": {
        "colab": {
          "base_uri": "https://localhost:8080/"
        },
        "id": "5NatcRVNWEhg",
        "outputId": "479f2467-bc07-484e-ee44-0e3f54857440"
      },
      "source": [
        "#Transpose the matrix XY and print the shape\n",
        "x=XY.transpose()\n",
        "print(x)"
      ],
      "execution_count": null,
      "outputs": [
        {
          "output_type": "stream",
          "name": "stdout",
          "text": [
            "[[ 7.9    6.9    7.2   ...  7.8    7.7    7.2  ]\n",
            " [ 0.35   0.54   0.66  ...  0.63   0.705  0.38 ]\n",
            " [ 0.46   0.3    0.03  ...  0.48   0.1    0.38 ]\n",
            " ...\n",
            " [ 0.86   1.18   0.57  ...  0.62   0.49   0.72 ]\n",
            " [12.8   10.5    9.7   ...  9.5    9.7   12.9  ]\n",
            " [ 8.     6.     5.    ...  5.     5.     7.   ]]\n"
          ]
        }
      ]
    },
    {
      "cell_type": "code",
      "metadata": {
        "colab": {
          "base_uri": "https://localhost:8080/"
        },
        "id": "k0_cbPcpYMig",
        "outputId": "e51a02db-6757-4f27-fde7-5287416b052e"
      },
      "source": [
        "print(x.shape[0])\n",
        "print(x.shape[1])"
      ],
      "execution_count": null,
      "outputs": [
        {
          "output_type": "stream",
          "name": "stdout",
          "text": [
            "12\n",
            "1599\n"
          ]
        }
      ]
    },
    {
      "cell_type": "code",
      "metadata": {
        "colab": {
          "base_uri": "https://localhost:8080/"
        },
        "id": "kGEyrmreYWme",
        "outputId": "7e8126e0-efde-4c45-bf80-b5b50328b9cb"
      },
      "source": [
        "#Inverse the matrix XY and print the shape\n",
        "np.linalg.pinv(XY)"
      ],
      "execution_count": null,
      "outputs": [
        {
          "output_type": "execute_result",
          "data": {
            "text/plain": [
              "array([[-5.68279566e-04, -8.58977990e-04,  8.78093613e-04, ...,\n",
              "        -1.08022187e-03,  5.11205935e-05, -7.56929798e-04],\n",
              "       [ 2.49994298e-03,  2.77513621e-03, -2.96236911e-03, ...,\n",
              "         6.31319385e-03,  1.50761833e-03,  1.40922475e-03],\n",
              "       [ 4.66702610e-03,  6.44722360e-04, -6.70304609e-03, ...,\n",
              "         1.18992181e-02, -9.50360701e-04,  4.40085578e-03],\n",
              "       ...,\n",
              "       [ 2.03386371e-03,  1.49664820e-02, -8.08545668e-04, ...,\n",
              "        -1.02673851e-03, -2.36359326e-03, -3.95774941e-04],\n",
              "       [ 4.66184860e-04, -1.00106398e-05, -2.38219704e-04, ...,\n",
              "        -3.40854857e-04, -3.45661419e-04,  1.11624785e-03],\n",
              "       [ 1.92649351e-03,  1.46317125e-04, -1.77136612e-05, ...,\n",
              "        -4.88725879e-05, -1.68658195e-04,  5.68112439e-04]])"
            ]
          },
          "metadata": {},
          "execution_count": 13
        }
      ]
    },
    {
      "cell_type": "code",
      "metadata": {
        "colab": {
          "base_uri": "https://localhost:8080/"
        },
        "id": "A7vhnuX0YaaE",
        "outputId": "c0974fcf-dd3d-45b1-f574-559792e0ec2a"
      },
      "source": [
        "#Compute the determinant of the matrix XY.\n",
        "X=np.random.randint(20,100,(1599,1599))\n",
        "np.linalg.slogdet(X)"
      ],
      "execution_count": null,
      "outputs": [
        {
          "output_type": "execute_result",
          "data": {
            "text/plain": [
              "(1.0, 10124.91659228979)"
            ]
          },
          "metadata": {},
          "execution_count": 20
        }
      ]
    },
    {
      "cell_type": "code",
      "metadata": {
        "colab": {
          "base_uri": "https://localhost:8080/"
        },
        "id": "US7DxDB4ZUmN",
        "outputId": "03dde873-edd1-48c2-85e6-91bc7f4f906f"
      },
      "source": [
        "#Create a random matrix of size 1599*12 named RXY and perform the following matrix level operations\n",
        "RXY=np.random.randint(20,50,size=(1599,12))\n",
        "print(RXY)"
      ],
      "execution_count": null,
      "outputs": [
        {
          "output_type": "stream",
          "name": "stdout",
          "text": [
            "[[25 21 43 ... 25 34 37]\n",
            " [24 32 49 ... 39 45 47]\n",
            " [32 24 37 ... 31 31 33]\n",
            " ...\n",
            " [24 27 46 ... 27 41 40]\n",
            " [33 30 23 ... 24 36 31]\n",
            " [23 22 35 ... 24 42 39]]\n"
          ]
        }
      ]
    },
    {
      "cell_type": "code",
      "metadata": {
        "colab": {
          "base_uri": "https://localhost:8080/"
        },
        "id": "M1N830KVZ8T7",
        "outputId": "00b4e697-b5f9-46c0-b5db-26dcfcddc8d6"
      },
      "source": [
        "#Add XY and RXY\n",
        "np.add(XY,RXY)"
      ],
      "execution_count": null,
      "outputs": [
        {
          "output_type": "execute_result",
          "data": {
            "text/plain": [
              "array([[32.9  , 21.35 , 43.46 , ..., 25.86 , 46.8  , 45.   ],\n",
              "       [30.9  , 32.54 , 49.3  , ..., 40.18 , 55.5  , 53.   ],\n",
              "       [39.2  , 24.66 , 37.03 , ..., 31.57 , 40.7  , 38.   ],\n",
              "       ...,\n",
              "       [31.8  , 27.63 , 46.48 , ..., 27.62 , 50.5  , 45.   ],\n",
              "       [40.7  , 30.705, 23.1  , ..., 24.49 , 45.7  , 36.   ],\n",
              "       [30.2  , 22.38 , 35.38 , ..., 24.72 , 54.9  , 46.   ]])"
            ]
          },
          "metadata": {},
          "execution_count": 21
        }
      ]
    },
    {
      "cell_type": "code",
      "metadata": {
        "colab": {
          "base_uri": "https://localhost:8080/"
        },
        "id": "gsYXNsh0bhrV",
        "outputId": "a8c230bd-f0a3-4f53-9932-4e85eb9e17ee"
      },
      "source": [
        "#Subtract RXY from XY\n",
        "np.subtract(XY,RXY)"
      ],
      "execution_count": null,
      "outputs": [
        {
          "output_type": "execute_result",
          "data": {
            "text/plain": [
              "array([[-17.1  , -20.65 , -42.54 , ..., -24.14 , -21.2  , -29.   ],\n",
              "       [-17.1  , -31.46 , -48.7  , ..., -37.82 , -34.5  , -41.   ],\n",
              "       [-24.8  , -23.34 , -36.97 , ..., -30.43 , -21.3  , -28.   ],\n",
              "       ...,\n",
              "       [-16.2  , -26.37 , -45.52 , ..., -26.38 , -31.5  , -35.   ],\n",
              "       [-25.3  , -29.295, -22.9  , ..., -23.51 , -26.3  , -26.   ],\n",
              "       [-15.8  , -21.62 , -34.62 , ..., -23.28 , -29.1  , -32.   ]])"
            ]
          },
          "metadata": {},
          "execution_count": 22
        }
      ]
    },
    {
      "cell_type": "code",
      "metadata": {
        "colab": {
          "base_uri": "https://localhost:8080/"
        },
        "id": "kQP3pxcOa4Zb",
        "outputId": "e85ad1de-a804-447d-b65b-281a308880c9"
      },
      "source": [
        "#Outer product between XY and RXY\n",
        "np.outer(XY,RXY)"
      ],
      "execution_count": null,
      "outputs": [
        {
          "output_type": "execute_result",
          "data": {
            "text/plain": [
              "array([[197.5 , 165.9 , 339.7 , ..., 189.6 , 331.8 , 308.1 ],\n",
              "       [  8.75,   7.35,  15.05, ...,   8.4 ,  14.7 ,  13.65],\n",
              "       [ 11.5 ,   9.66,  19.78, ...,  11.04,  19.32,  17.94],\n",
              "       ...,\n",
              "       [ 18.  ,  15.12,  30.96, ...,  17.28,  30.24,  28.08],\n",
              "       [322.5 , 270.9 , 554.7 , ..., 309.6 , 541.8 , 503.1 ],\n",
              "       [175.  , 147.  , 301.  , ..., 168.  , 294.  , 273.  ]])"
            ]
          },
          "metadata": {},
          "execution_count": 23
        }
      ]
    },
    {
      "cell_type": "code",
      "metadata": {
        "colab": {
          "base_uri": "https://localhost:8080/"
        },
        "id": "r_F_Yi5hbNw4",
        "outputId": "2a0e4baa-02a4-45a2-a11a-6a4bd7f38c04"
      },
      "source": [
        "print(np.outer(XY,RXY).shape)"
      ],
      "execution_count": null,
      "outputs": [
        {
          "output_type": "stream",
          "name": "stdout",
          "text": [
            "(19188, 19188)\n"
          ]
        }
      ]
    },
    {
      "cell_type": "code",
      "metadata": {
        "colab": {
          "base_uri": "https://localhost:8080/"
        },
        "id": "6ekHuErjbXX9",
        "outputId": "b37a8519-45dc-424b-ed7a-a79fead6a2bc"
      },
      "source": [
        "#Create a random matrix of size 12*1 named RXY2 and perform the inner product between XY and RXY2 (i.e. dot product between 1599*12 and 12*1). Print the matrix as well as its shape.\n",
        "RXY2=np.random.randint(20,50,size=(12,1))\n",
        "print(RXY2)"
      ],
      "execution_count": null,
      "outputs": [
        {
          "output_type": "stream",
          "name": "stdout",
          "text": [
            "[[48]\n",
            " [23]\n",
            " [41]\n",
            " [26]\n",
            " [35]\n",
            " [31]\n",
            " [42]\n",
            " [26]\n",
            " [40]\n",
            " [35]\n",
            " [26]\n",
            " [39]]\n"
          ]
        }
      ]
    },
    {
      "cell_type": "code",
      "metadata": {
        "colab": {
          "base_uri": "https://localhost:8080/"
        },
        "id": "-otFd5rforrw",
        "outputId": "c2db20e1-b325-4e3e-de90-a6a042b1d42a"
      },
      "source": [
        "print(RXY2.shape)"
      ],
      "execution_count": null,
      "outputs": [
        {
          "output_type": "stream",
          "name": "stdout",
          "text": [
            "(12, 1)\n"
          ]
        }
      ]
    },
    {
      "cell_type": "code",
      "metadata": {
        "colab": {
          "base_uri": "https://localhost:8080/"
        },
        "id": "TmLT__shb52w",
        "outputId": "47adff6a-fdc3-4662-febc-17b8cc18c054"
      },
      "source": [
        "np.dot(XY,RXY2)"
      ],
      "execution_count": null,
      "outputs": [
        {
          "output_type": "execute_result",
          "data": {
            "text/plain": [
              "array([[3356.2698 ],\n",
              "       [5809.4285 ],\n",
              "       [5166.82318],\n",
              "       ...,\n",
              "       [5539.4686 ],\n",
              "       [2457.3426 ],\n",
              "       [3715.13256]])"
            ]
          },
          "metadata": {},
          "execution_count": 27
        }
      ]
    },
    {
      "cell_type": "code",
      "metadata": {
        "colab": {
          "base_uri": "https://localhost:8080/"
        },
        "id": "NkHWTii4cIg6",
        "outputId": "f793def1-885a-4172-b7e9-460dc37f2b7f"
      },
      "source": [
        "print(np.dot(XY,RXY2).shape)"
      ],
      "execution_count": null,
      "outputs": [
        {
          "output_type": "stream",
          "name": "stdout",
          "text": [
            "(1599, 1)\n"
          ]
        }
      ]
    },
    {
      "cell_type": "markdown",
      "metadata": {
        "id": "UO1KzdCkcbvI"
      },
      "source": [
        "#Mnist dataset"
      ]
    },
    {
      "cell_type": "code",
      "metadata": {
        "colab": {
          "base_uri": "https://localhost:8080/"
        },
        "id": "-GMau9CucPqK",
        "outputId": "57440d64-43aa-4250-d0cd-a0faf554b087"
      },
      "source": [
        "data=pd.read_csv('./sample_data/mnist_train_small.csv')\n",
        "print(data)"
      ],
      "execution_count": null,
      "outputs": [
        {
          "output_type": "stream",
          "name": "stdout",
          "text": [
            "       6  0  0.1  0.2  0.3  0.4  ...  0.585  0.586  0.587  0.588  0.589  0.590\n",
            "0      5  0    0    0    0    0  ...      0      0      0      0      0      0\n",
            "1      7  0    0    0    0    0  ...      0      0      0      0      0      0\n",
            "2      9  0    0    0    0    0  ...      0      0      0      0      0      0\n",
            "3      5  0    0    0    0    0  ...      0      0      0      0      0      0\n",
            "4      2  0    0    0    0    0  ...      0      0      0      0      0      0\n",
            "...   .. ..  ...  ...  ...  ...  ...    ...    ...    ...    ...    ...    ...\n",
            "19994  0  0    0    0    0    0  ...      0      0      0      0      0      0\n",
            "19995  1  0    0    0    0    0  ...      0      0      0      0      0      0\n",
            "19996  2  0    0    0    0    0  ...      0      0      0      0      0      0\n",
            "19997  9  0    0    0    0    0  ...      0      0      0      0      0      0\n",
            "19998  5  0    0    0    0    0  ...      0      0      0      0      0      0\n",
            "\n",
            "[19999 rows x 785 columns]\n"
          ]
        }
      ]
    },
    {
      "cell_type": "code",
      "metadata": {
        "colab": {
          "base_uri": "https://localhost:8080/"
        },
        "id": "olTH0bFzkxOs",
        "outputId": "8f81a73c-a32a-4223-9933-6d9189f4401f"
      },
      "source": [
        "XY=np.array(data)\n",
        "print(XY)\n"
      ],
      "execution_count": null,
      "outputs": [
        {
          "output_type": "stream",
          "name": "stdout",
          "text": [
            "[[5 0 0 ... 0 0 0]\n",
            " [7 0 0 ... 0 0 0]\n",
            " [9 0 0 ... 0 0 0]\n",
            " ...\n",
            " [2 0 0 ... 0 0 0]\n",
            " [9 0 0 ... 0 0 0]\n",
            " [5 0 0 ... 0 0 0]]\n"
          ]
        }
      ]
    },
    {
      "cell_type": "code",
      "metadata": {
        "colab": {
          "base_uri": "https://localhost:8080/"
        },
        "id": "z2XOQUJfkrUW",
        "outputId": "e0c17067-10b9-4cec-c1fd-f9e93133cec7"
      },
      "source": [
        "#Apply the following matrix operations (independently to the source matrix of size 1599*12) to the dataset matrix (Use built in functions using different libraries)\n",
        "#Print shape of the matrix XY.\n",
        "print(\"The shape of the matrix is: \",XY.shape)"
      ],
      "execution_count": null,
      "outputs": [
        {
          "output_type": "stream",
          "name": "stdout",
          "text": [
            "The shape of the matrix is:  (19999, 785)\n"
          ]
        }
      ]
    },
    {
      "cell_type": "code",
      "metadata": {
        "colab": {
          "base_uri": "https://localhost:8080/"
        },
        "id": "Rt5vRv5SlB8a",
        "outputId": "1fad2717-5262-4de2-b865-d48283e9ff14"
      },
      "source": [
        "#Flatten the matrix XY into a 1D array\n",
        "XY.flatten()\n"
      ],
      "execution_count": null,
      "outputs": [
        {
          "output_type": "execute_result",
          "data": {
            "text/plain": [
              "array([5, 0, 0, ..., 0, 0, 0])"
            ]
          },
          "metadata": {},
          "execution_count": 32
        }
      ]
    },
    {
      "cell_type": "code",
      "metadata": {
        "colab": {
          "base_uri": "https://localhost:8080/"
        },
        "id": "5tr7GtgplB0-",
        "outputId": "cc3b0360-8f96-482e-9ff6-361a18a7a9ec"
      },
      "source": [
        "#Slice the matrix (column slicing): Separate the features (1599*11 matrix: all columns except the last one) of the dataset and target variable (1599*1 matrix: last column) i.e. quality of wine.\n",
        "features=XY[:,:-1]\n",
        "target=XY[:,-1:]\n",
        "print(features.shape)\n",
        "print(target.shape)"
      ],
      "execution_count": null,
      "outputs": [
        {
          "output_type": "stream",
          "name": "stdout",
          "text": [
            "(19999, 784)\n",
            "(19999, 1)\n"
          ]
        }
      ]
    },
    {
      "cell_type": "code",
      "metadata": {
        "colab": {
          "base_uri": "https://localhost:8080/"
        },
        "id": "_qc8pCjdlBsp",
        "outputId": "bf06ec2b-9bcd-4ad4-d7df-fd0a8bbc1b19"
      },
      "source": [
        "#Slice the matrix (row slicing): Divide the matrix XY into two equal sections \n",
        "x=XY[0:10000]\n",
        "y=XY[9999:]\n",
        "print(x.shape)\n",
        "print(y.shape)"
      ],
      "execution_count": null,
      "outputs": [
        {
          "output_type": "stream",
          "name": "stdout",
          "text": [
            "(10000, 785)\n",
            "(10000, 785)\n"
          ]
        }
      ]
    },
    {
      "cell_type": "code",
      "metadata": {
        "colab": {
          "base_uri": "https://localhost:8080/"
        },
        "id": "S0oZvg4elBkr",
        "outputId": "b5588a2a-8743-4440-bff9-266f9bb4c467"
      },
      "source": [
        "#Shuffle the rows of the matrix XY\n",
        "np.take(XY,np.random.permutation(XY.shape[0]),axis=0,out=XY)"
      ],
      "execution_count": null,
      "outputs": [
        {
          "output_type": "execute_result",
          "data": {
            "text/plain": [
              "array([[7, 0, 0, ..., 0, 0, 0],\n",
              "       [0, 0, 0, ..., 0, 0, 0],\n",
              "       [6, 0, 0, ..., 0, 0, 0],\n",
              "       ...,\n",
              "       [8, 0, 0, ..., 0, 0, 0],\n",
              "       [5, 0, 0, ..., 0, 0, 0],\n",
              "       [6, 0, 0, ..., 0, 0, 0]])"
            ]
          },
          "metadata": {},
          "execution_count": 35
        }
      ]
    },
    {
      "cell_type": "code",
      "metadata": {
        "colab": {
          "base_uri": "https://localhost:8080/"
        },
        "id": "5vYbGOFjmN6R",
        "outputId": "cbf82d0c-d824-4671-b16b-b5b8999c8712"
      },
      "source": [
        "#Transpose the matrix XY and print the shape\n",
        "np.transpose(XY)"
      ],
      "execution_count": null,
      "outputs": [
        {
          "output_type": "execute_result",
          "data": {
            "text/plain": [
              "array([[7, 0, 6, ..., 8, 5, 6],\n",
              "       [0, 0, 0, ..., 0, 0, 0],\n",
              "       [0, 0, 0, ..., 0, 0, 0],\n",
              "       ...,\n",
              "       [0, 0, 0, ..., 0, 0, 0],\n",
              "       [0, 0, 0, ..., 0, 0, 0],\n",
              "       [0, 0, 0, ..., 0, 0, 0]])"
            ]
          },
          "metadata": {},
          "execution_count": 36
        }
      ]
    },
    {
      "cell_type": "code",
      "metadata": {
        "id": "9JzRI1ZfmfZd",
        "colab": {
          "base_uri": "https://localhost:8080/"
        },
        "outputId": "2078e034-4c22-42e2-9b20-9c89a2338db9"
      },
      "source": [
        "#Inverse the matrix XY and print the shape\n",
        "np.linalg.pinv(XY)"
      ],
      "execution_count": null,
      "outputs": [
        {
          "output_type": "execute_result",
          "data": {
            "text/plain": [
              "array([[ 2.89678750e-05, -2.54602971e-05,  2.39878380e-05, ...,\n",
              "        -7.25817434e-06,  3.78135361e-05, -1.28175383e-06],\n",
              "       [-1.67460062e-18,  6.34716682e-16,  7.33218590e-17, ...,\n",
              "         1.67665301e-16,  2.91200007e-17,  4.16949387e-17],\n",
              "       [-3.26213544e-18,  3.19659154e-16,  2.77622768e-17, ...,\n",
              "         8.88007486e-17,  9.61136116e-19,  2.31482305e-17],\n",
              "       ...,\n",
              "       [ 0.00000000e+00,  0.00000000e+00,  0.00000000e+00, ...,\n",
              "         0.00000000e+00,  0.00000000e+00,  0.00000000e+00],\n",
              "       [ 0.00000000e+00,  0.00000000e+00,  0.00000000e+00, ...,\n",
              "         0.00000000e+00,  0.00000000e+00,  0.00000000e+00],\n",
              "       [ 0.00000000e+00,  0.00000000e+00,  0.00000000e+00, ...,\n",
              "         0.00000000e+00,  0.00000000e+00,  0.00000000e+00]])"
            ]
          },
          "metadata": {},
          "execution_count": 38
        }
      ]
    },
    {
      "cell_type": "code",
      "metadata": {
        "id": "kDYb8fHjmfRV",
        "colab": {
          "base_uri": "https://localhost:8080/"
        },
        "outputId": "9cfb280d-1b65-4328-9977-ea385f116673"
      },
      "source": [
        "#Compute the determinant of the matrix XY.\n",
        "X=np.random.randint(30,200,(1900,1900))\n",
        "np.linalg.slogdet(X)"
      ],
      "execution_count": null,
      "outputs": [
        {
          "output_type": "execute_result",
          "data": {
            "text/plain": [
              "(-1.0, 13624.108552620864)"
            ]
          },
          "metadata": {},
          "execution_count": 39
        }
      ]
    },
    {
      "cell_type": "code",
      "metadata": {
        "colab": {
          "base_uri": "https://localhost:8080/"
        },
        "id": "Vds9QvPOmpHX",
        "outputId": "4b162693-8e98-4a1d-80e7-844572c01edc"
      },
      "source": [
        "#Create a random matrix of size 1599*12 named RXY and perform the following matrix level operations\n",
        "RXY=np.random.randint(20,100,(19999,785))\n",
        "print(RXY)\n"
      ],
      "execution_count": null,
      "outputs": [
        {
          "output_type": "stream",
          "name": "stdout",
          "text": [
            "[[66 82 62 ... 68 29 97]\n",
            " [77 64 90 ... 81 68 80]\n",
            " [80 75 59 ... 83 35 62]\n",
            " ...\n",
            " [26 21 37 ... 57 75 36]\n",
            " [66 77 31 ... 25 41 72]\n",
            " [54 46 99 ... 49 46 76]]\n"
          ]
        }
      ]
    },
    {
      "cell_type": "code",
      "metadata": {
        "colab": {
          "base_uri": "https://localhost:8080/"
        },
        "id": "2l-Fxd5mmoww",
        "outputId": "c685eebd-a11e-4adb-e8b0-3276afec5886"
      },
      "source": [
        "#Add XY and RXY\n",
        "np.add(XY,RXY)"
      ],
      "execution_count": null,
      "outputs": [
        {
          "output_type": "execute_result",
          "data": {
            "text/plain": [
              "array([[73, 82, 62, ..., 68, 29, 97],\n",
              "       [77, 64, 90, ..., 81, 68, 80],\n",
              "       [86, 75, 59, ..., 83, 35, 62],\n",
              "       ...,\n",
              "       [34, 21, 37, ..., 57, 75, 36],\n",
              "       [71, 77, 31, ..., 25, 41, 72],\n",
              "       [60, 46, 99, ..., 49, 46, 76]])"
            ]
          },
          "metadata": {},
          "execution_count": 41
        }
      ]
    },
    {
      "cell_type": "code",
      "metadata": {
        "colab": {
          "base_uri": "https://localhost:8080/"
        },
        "id": "IG0ClBgsnpFN",
        "outputId": "1e0318f0-7c3c-46b1-9702-f1d63b00760e"
      },
      "source": [
        "#Subtract RXY from XY\n",
        "np.subtract(XY,RXY)"
      ],
      "execution_count": null,
      "outputs": [
        {
          "output_type": "execute_result",
          "data": {
            "text/plain": [
              "array([[-59, -82, -62, ..., -68, -29, -97],\n",
              "       [-77, -64, -90, ..., -81, -68, -80],\n",
              "       [-74, -75, -59, ..., -83, -35, -62],\n",
              "       ...,\n",
              "       [-18, -21, -37, ..., -57, -75, -36],\n",
              "       [-61, -77, -31, ..., -25, -41, -72],\n",
              "       [-48, -46, -99, ..., -49, -46, -76]])"
            ]
          },
          "metadata": {},
          "execution_count": 42
        }
      ]
    },
    {
      "cell_type": "code",
      "metadata": {
        "colab": {
          "base_uri": "https://localhost:8080/"
        },
        "id": "Ijz5MH1fjygu",
        "outputId": "78e8a3d8-d8f7-4e39-e067-6fb221757789"
      },
      "source": [
        "#Create a random matrix of size 12*1 named RXY2 and perform the inner product between XY and RXY2 (i.e. dot product between 1599*12 and 12*1). Print the matrix as well as its shape.\n",
        "RXY2=np.random.randint(20,150,(12,1))\n",
        "print(RXY2)"
      ],
      "execution_count": null,
      "outputs": [
        {
          "output_type": "stream",
          "name": "stdout",
          "text": [
            "[[147]\n",
            " [ 69]\n",
            " [ 88]\n",
            " [ 68]\n",
            " [122]\n",
            " [146]\n",
            " [142]\n",
            " [ 96]\n",
            " [117]\n",
            " [ 58]\n",
            " [133]\n",
            " [ 60]]\n"
          ]
        }
      ]
    },
    {
      "cell_type": "code",
      "metadata": {
        "colab": {
          "base_uri": "https://localhost:8080/"
        },
        "id": "ty-eBc5VokNL",
        "outputId": "1dcafe0e-997e-472a-834a-2e92fea1b72d"
      },
      "source": [
        "print(RXY2.shape)"
      ],
      "execution_count": null,
      "outputs": [
        {
          "output_type": "stream",
          "name": "stdout",
          "text": [
            "(12, 1)\n"
          ]
        }
      ]
    }
  ]
}